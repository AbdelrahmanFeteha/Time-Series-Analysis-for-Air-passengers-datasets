{
  "nbformat": 4,
  "nbformat_minor": 0,
  "metadata": {
    "colab": {
      "provenance": [],
      "collapsed_sections": [
        "l6T01g3h4Utp",
        "kvmydU0Qqhzc"
      ],
      "include_colab_link": true
    },
    "kernelspec": {
      "name": "python3",
      "display_name": "Python 3"
    },
    "language_info": {
      "name": "python"
    }
  },
  "cells": [
    {
      "cell_type": "markdown",
      "metadata": {
        "id": "view-in-github",
        "colab_type": "text"
      },
      "source": [
        "<a href=\"https://colab.research.google.com/github/AbdelrahmanFeteha/Time-Series-Analysis-for-Air-passengers-datasets/blob/main/NN_TSP.ipynb\" target=\"_parent\"><img src=\"https://colab.research.google.com/assets/colab-badge.svg\" alt=\"Open In Colab\"/></a>"
      ]
    },
    {
      "cell_type": "markdown",
      "source": [
        "# **Time-Series Analysis for Air passengers datasets**\n",
        "\n",
        "\n"
      ],
      "metadata": {
        "id": "l6T01g3h4Utp"
      }
    },
    {
      "cell_type": "markdown",
      "source": [
        "**1. Problem Definition**\n",
        "- International Airline Passengers prediction problem.\n",
        "- This is a problem where, given a year and a month, the task is to predictthe number of international airline passengers in units of 1,000.\n",
        "- The data ranges from January 1949 to December 1960, or 12 years, with 144 observations.\n",
        "\n",
        "**2. Collect Datset**\n",
        "- Dataset from: https://www.kaggle.com/rakannimer/air-passengers\n",
        "\n",
        "**3. Preliminary Analysis to understand the dataset**"
      ],
      "metadata": {
        "id": "H7jYhHzH4uMM"
      }
    },
    {
      "cell_type": "code",
      "source": [
        "import numpy as np\n",
        "import matplotlib.pyplot as plt\n",
        "import pandas as pd\n",
        "import seaborn as sns\n",
        "#plt.style.use('dark_background')"
      ],
      "metadata": {
        "id": "xtyraqGresG-"
      },
      "execution_count": 50,
      "outputs": []
    },
    {
      "cell_type": "code",
      "source": [
        "# load the dataset\n",
        "df = pd.read_csv('AirPassengers.csv')\n",
        "print(df.dtypes)\n"
      ],
      "metadata": {
        "id": "OTL1AAC2evJq",
        "colab": {
          "base_uri": "https://localhost:8080/",
          "height": 0
        },
        "outputId": "cce536af-47ac-4649-f4ab-5868ad1242c6"
      },
      "execution_count": 51,
      "outputs": [
        {
          "output_type": "stream",
          "name": "stdout",
          "text": [
            "Month         object\n",
            "Passengers     int64\n",
            "dtype: object\n"
          ]
        }
      ]
    },
    {
      "cell_type": "code",
      "source": [
        "df['Month'] = pd.to_datetime(df['Month']) #This line to change the data type from object \"text\" to datetime format to be able to plot # of passenger vs time\n",
        "print(df.dtypes)\n"
      ],
      "metadata": {
        "id": "Lu6tK-NAjpOb",
        "colab": {
          "base_uri": "https://localhost:8080/",
          "height": 0
        },
        "outputId": "3b1de54a-0bb4-476a-80a3-89eabf11d889"
      },
      "execution_count": 52,
      "outputs": [
        {
          "output_type": "stream",
          "name": "stdout",
          "text": [
            "Month         datetime64[ns]\n",
            "Passengers             int64\n",
            "dtype: object\n"
          ]
        }
      ]
    },
    {
      "cell_type": "code",
      "source": [
        "df"
      ],
      "metadata": {
        "id": "IIRZNyRmkfXP",
        "colab": {
          "base_uri": "https://localhost:8080/",
          "height": 424
        },
        "outputId": "37b4f0e1-9e9e-4c10-8d8a-4b5f14215ef2"
      },
      "execution_count": 53,
      "outputs": [
        {
          "output_type": "execute_result",
          "data": {
            "text/plain": [
              "         Month  Passengers\n",
              "0   1949-01-01         112\n",
              "1   1949-02-01         118\n",
              "2   1949-03-01         132\n",
              "3   1949-04-01         129\n",
              "4   1949-05-01         121\n",
              "..         ...         ...\n",
              "139 1960-08-01         606\n",
              "140 1960-09-01         508\n",
              "141 1960-10-01         461\n",
              "142 1960-11-01         390\n",
              "143 1960-12-01         432\n",
              "\n",
              "[144 rows x 2 columns]"
            ],
            "text/html": [
              "\n",
              "  <div id=\"df-a407d5a1-35f2-45cb-ac78-87ad13d8b0eb\" class=\"colab-df-container\">\n",
              "    <div>\n",
              "<style scoped>\n",
              "    .dataframe tbody tr th:only-of-type {\n",
              "        vertical-align: middle;\n",
              "    }\n",
              "\n",
              "    .dataframe tbody tr th {\n",
              "        vertical-align: top;\n",
              "    }\n",
              "\n",
              "    .dataframe thead th {\n",
              "        text-align: right;\n",
              "    }\n",
              "</style>\n",
              "<table border=\"1\" class=\"dataframe\">\n",
              "  <thead>\n",
              "    <tr style=\"text-align: right;\">\n",
              "      <th></th>\n",
              "      <th>Month</th>\n",
              "      <th>Passengers</th>\n",
              "    </tr>\n",
              "  </thead>\n",
              "  <tbody>\n",
              "    <tr>\n",
              "      <th>0</th>\n",
              "      <td>1949-01-01</td>\n",
              "      <td>112</td>\n",
              "    </tr>\n",
              "    <tr>\n",
              "      <th>1</th>\n",
              "      <td>1949-02-01</td>\n",
              "      <td>118</td>\n",
              "    </tr>\n",
              "    <tr>\n",
              "      <th>2</th>\n",
              "      <td>1949-03-01</td>\n",
              "      <td>132</td>\n",
              "    </tr>\n",
              "    <tr>\n",
              "      <th>3</th>\n",
              "      <td>1949-04-01</td>\n",
              "      <td>129</td>\n",
              "    </tr>\n",
              "    <tr>\n",
              "      <th>4</th>\n",
              "      <td>1949-05-01</td>\n",
              "      <td>121</td>\n",
              "    </tr>\n",
              "    <tr>\n",
              "      <th>...</th>\n",
              "      <td>...</td>\n",
              "      <td>...</td>\n",
              "    </tr>\n",
              "    <tr>\n",
              "      <th>139</th>\n",
              "      <td>1960-08-01</td>\n",
              "      <td>606</td>\n",
              "    </tr>\n",
              "    <tr>\n",
              "      <th>140</th>\n",
              "      <td>1960-09-01</td>\n",
              "      <td>508</td>\n",
              "    </tr>\n",
              "    <tr>\n",
              "      <th>141</th>\n",
              "      <td>1960-10-01</td>\n",
              "      <td>461</td>\n",
              "    </tr>\n",
              "    <tr>\n",
              "      <th>142</th>\n",
              "      <td>1960-11-01</td>\n",
              "      <td>390</td>\n",
              "    </tr>\n",
              "    <tr>\n",
              "      <th>143</th>\n",
              "      <td>1960-12-01</td>\n",
              "      <td>432</td>\n",
              "    </tr>\n",
              "  </tbody>\n",
              "</table>\n",
              "<p>144 rows × 2 columns</p>\n",
              "</div>\n",
              "    <div class=\"colab-df-buttons\">\n",
              "\n",
              "  <div class=\"colab-df-container\">\n",
              "    <button class=\"colab-df-convert\" onclick=\"convertToInteractive('df-a407d5a1-35f2-45cb-ac78-87ad13d8b0eb')\"\n",
              "            title=\"Convert this dataframe to an interactive table.\"\n",
              "            style=\"display:none;\">\n",
              "\n",
              "  <svg xmlns=\"http://www.w3.org/2000/svg\" height=\"24px\" viewBox=\"0 -960 960 960\">\n",
              "    <path d=\"M120-120v-720h720v720H120Zm60-500h600v-160H180v160Zm220 220h160v-160H400v160Zm0 220h160v-160H400v160ZM180-400h160v-160H180v160Zm440 0h160v-160H620v160ZM180-180h160v-160H180v160Zm440 0h160v-160H620v160Z\"/>\n",
              "  </svg>\n",
              "    </button>\n",
              "\n",
              "  <style>\n",
              "    .colab-df-container {\n",
              "      display:flex;\n",
              "      gap: 12px;\n",
              "    }\n",
              "\n",
              "    .colab-df-convert {\n",
              "      background-color: #E8F0FE;\n",
              "      border: none;\n",
              "      border-radius: 50%;\n",
              "      cursor: pointer;\n",
              "      display: none;\n",
              "      fill: #1967D2;\n",
              "      height: 32px;\n",
              "      padding: 0 0 0 0;\n",
              "      width: 32px;\n",
              "    }\n",
              "\n",
              "    .colab-df-convert:hover {\n",
              "      background-color: #E2EBFA;\n",
              "      box-shadow: 0px 1px 2px rgba(60, 64, 67, 0.3), 0px 1px 3px 1px rgba(60, 64, 67, 0.15);\n",
              "      fill: #174EA6;\n",
              "    }\n",
              "\n",
              "    .colab-df-buttons div {\n",
              "      margin-bottom: 4px;\n",
              "    }\n",
              "\n",
              "    [theme=dark] .colab-df-convert {\n",
              "      background-color: #3B4455;\n",
              "      fill: #D2E3FC;\n",
              "    }\n",
              "\n",
              "    [theme=dark] .colab-df-convert:hover {\n",
              "      background-color: #434B5C;\n",
              "      box-shadow: 0px 1px 3px 1px rgba(0, 0, 0, 0.15);\n",
              "      filter: drop-shadow(0px 1px 2px rgba(0, 0, 0, 0.3));\n",
              "      fill: #FFFFFF;\n",
              "    }\n",
              "  </style>\n",
              "\n",
              "    <script>\n",
              "      const buttonEl =\n",
              "        document.querySelector('#df-a407d5a1-35f2-45cb-ac78-87ad13d8b0eb button.colab-df-convert');\n",
              "      buttonEl.style.display =\n",
              "        google.colab.kernel.accessAllowed ? 'block' : 'none';\n",
              "\n",
              "      async function convertToInteractive(key) {\n",
              "        const element = document.querySelector('#df-a407d5a1-35f2-45cb-ac78-87ad13d8b0eb');\n",
              "        const dataTable =\n",
              "          await google.colab.kernel.invokeFunction('convertToInteractive',\n",
              "                                                    [key], {});\n",
              "        if (!dataTable) return;\n",
              "\n",
              "        const docLinkHtml = 'Like what you see? Visit the ' +\n",
              "          '<a target=\"_blank\" href=https://colab.research.google.com/notebooks/data_table.ipynb>data table notebook</a>'\n",
              "          + ' to learn more about interactive tables.';\n",
              "        element.innerHTML = '';\n",
              "        dataTable['output_type'] = 'display_data';\n",
              "        await google.colab.output.renderOutput(dataTable, element);\n",
              "        const docLink = document.createElement('div');\n",
              "        docLink.innerHTML = docLinkHtml;\n",
              "        element.appendChild(docLink);\n",
              "      }\n",
              "    </script>\n",
              "  </div>\n",
              "\n",
              "\n",
              "    <div id=\"df-9e9fecaa-b383-4e0d-8795-1b76192d09cb\">\n",
              "      <button class=\"colab-df-quickchart\" onclick=\"quickchart('df-9e9fecaa-b383-4e0d-8795-1b76192d09cb')\"\n",
              "                title=\"Suggest charts\"\n",
              "                style=\"display:none;\">\n",
              "\n",
              "<svg xmlns=\"http://www.w3.org/2000/svg\" height=\"24px\"viewBox=\"0 0 24 24\"\n",
              "     width=\"24px\">\n",
              "    <g>\n",
              "        <path d=\"M19 3H5c-1.1 0-2 .9-2 2v14c0 1.1.9 2 2 2h14c1.1 0 2-.9 2-2V5c0-1.1-.9-2-2-2zM9 17H7v-7h2v7zm4 0h-2V7h2v10zm4 0h-2v-4h2v4z\"/>\n",
              "    </g>\n",
              "</svg>\n",
              "      </button>\n",
              "\n",
              "<style>\n",
              "  .colab-df-quickchart {\n",
              "      --bg-color: #E8F0FE;\n",
              "      --fill-color: #1967D2;\n",
              "      --hover-bg-color: #E2EBFA;\n",
              "      --hover-fill-color: #174EA6;\n",
              "      --disabled-fill-color: #AAA;\n",
              "      --disabled-bg-color: #DDD;\n",
              "  }\n",
              "\n",
              "  [theme=dark] .colab-df-quickchart {\n",
              "      --bg-color: #3B4455;\n",
              "      --fill-color: #D2E3FC;\n",
              "      --hover-bg-color: #434B5C;\n",
              "      --hover-fill-color: #FFFFFF;\n",
              "      --disabled-bg-color: #3B4455;\n",
              "      --disabled-fill-color: #666;\n",
              "  }\n",
              "\n",
              "  .colab-df-quickchart {\n",
              "    background-color: var(--bg-color);\n",
              "    border: none;\n",
              "    border-radius: 50%;\n",
              "    cursor: pointer;\n",
              "    display: none;\n",
              "    fill: var(--fill-color);\n",
              "    height: 32px;\n",
              "    padding: 0;\n",
              "    width: 32px;\n",
              "  }\n",
              "\n",
              "  .colab-df-quickchart:hover {\n",
              "    background-color: var(--hover-bg-color);\n",
              "    box-shadow: 0 1px 2px rgba(60, 64, 67, 0.3), 0 1px 3px 1px rgba(60, 64, 67, 0.15);\n",
              "    fill: var(--button-hover-fill-color);\n",
              "  }\n",
              "\n",
              "  .colab-df-quickchart-complete:disabled,\n",
              "  .colab-df-quickchart-complete:disabled:hover {\n",
              "    background-color: var(--disabled-bg-color);\n",
              "    fill: var(--disabled-fill-color);\n",
              "    box-shadow: none;\n",
              "  }\n",
              "\n",
              "  .colab-df-spinner {\n",
              "    border: 2px solid var(--fill-color);\n",
              "    border-color: transparent;\n",
              "    border-bottom-color: var(--fill-color);\n",
              "    animation:\n",
              "      spin 1s steps(1) infinite;\n",
              "  }\n",
              "\n",
              "  @keyframes spin {\n",
              "    0% {\n",
              "      border-color: transparent;\n",
              "      border-bottom-color: var(--fill-color);\n",
              "      border-left-color: var(--fill-color);\n",
              "    }\n",
              "    20% {\n",
              "      border-color: transparent;\n",
              "      border-left-color: var(--fill-color);\n",
              "      border-top-color: var(--fill-color);\n",
              "    }\n",
              "    30% {\n",
              "      border-color: transparent;\n",
              "      border-left-color: var(--fill-color);\n",
              "      border-top-color: var(--fill-color);\n",
              "      border-right-color: var(--fill-color);\n",
              "    }\n",
              "    40% {\n",
              "      border-color: transparent;\n",
              "      border-right-color: var(--fill-color);\n",
              "      border-top-color: var(--fill-color);\n",
              "    }\n",
              "    60% {\n",
              "      border-color: transparent;\n",
              "      border-right-color: var(--fill-color);\n",
              "    }\n",
              "    80% {\n",
              "      border-color: transparent;\n",
              "      border-right-color: var(--fill-color);\n",
              "      border-bottom-color: var(--fill-color);\n",
              "    }\n",
              "    90% {\n",
              "      border-color: transparent;\n",
              "      border-bottom-color: var(--fill-color);\n",
              "    }\n",
              "  }\n",
              "</style>\n",
              "\n",
              "      <script>\n",
              "        async function quickchart(key) {\n",
              "          const quickchartButtonEl =\n",
              "            document.querySelector('#' + key + ' button');\n",
              "          quickchartButtonEl.disabled = true;  // To prevent multiple clicks.\n",
              "          quickchartButtonEl.classList.add('colab-df-spinner');\n",
              "          try {\n",
              "            const charts = await google.colab.kernel.invokeFunction(\n",
              "                'suggestCharts', [key], {});\n",
              "          } catch (error) {\n",
              "            console.error('Error during call to suggestCharts:', error);\n",
              "          }\n",
              "          quickchartButtonEl.classList.remove('colab-df-spinner');\n",
              "          quickchartButtonEl.classList.add('colab-df-quickchart-complete');\n",
              "        }\n",
              "        (() => {\n",
              "          let quickchartButtonEl =\n",
              "            document.querySelector('#df-9e9fecaa-b383-4e0d-8795-1b76192d09cb button');\n",
              "          quickchartButtonEl.style.display =\n",
              "            google.colab.kernel.accessAllowed ? 'block' : 'none';\n",
              "        })();\n",
              "      </script>\n",
              "    </div>\n",
              "\n",
              "  <div id=\"id_6385a46d-b3ca-4248-afd6-8f68539cb176\">\n",
              "    <style>\n",
              "      .colab-df-generate {\n",
              "        background-color: #E8F0FE;\n",
              "        border: none;\n",
              "        border-radius: 50%;\n",
              "        cursor: pointer;\n",
              "        display: none;\n",
              "        fill: #1967D2;\n",
              "        height: 32px;\n",
              "        padding: 0 0 0 0;\n",
              "        width: 32px;\n",
              "      }\n",
              "\n",
              "      .colab-df-generate:hover {\n",
              "        background-color: #E2EBFA;\n",
              "        box-shadow: 0px 1px 2px rgba(60, 64, 67, 0.3), 0px 1px 3px 1px rgba(60, 64, 67, 0.15);\n",
              "        fill: #174EA6;\n",
              "      }\n",
              "\n",
              "      [theme=dark] .colab-df-generate {\n",
              "        background-color: #3B4455;\n",
              "        fill: #D2E3FC;\n",
              "      }\n",
              "\n",
              "      [theme=dark] .colab-df-generate:hover {\n",
              "        background-color: #434B5C;\n",
              "        box-shadow: 0px 1px 3px 1px rgba(0, 0, 0, 0.15);\n",
              "        filter: drop-shadow(0px 1px 2px rgba(0, 0, 0, 0.3));\n",
              "        fill: #FFFFFF;\n",
              "      }\n",
              "    </style>\n",
              "    <button class=\"colab-df-generate\" onclick=\"generateWithVariable('df')\"\n",
              "            title=\"Generate code using this dataframe.\"\n",
              "            style=\"display:none;\">\n",
              "\n",
              "  <svg xmlns=\"http://www.w3.org/2000/svg\" height=\"24px\"viewBox=\"0 0 24 24\"\n",
              "       width=\"24px\">\n",
              "    <path d=\"M7,19H8.4L18.45,9,17,7.55,7,17.6ZM5,21V16.75L18.45,3.32a2,2,0,0,1,2.83,0l1.4,1.43a1.91,1.91,0,0,1,.58,1.4,1.91,1.91,0,0,1-.58,1.4L9.25,21ZM18.45,9,17,7.55Zm-12,3A5.31,5.31,0,0,0,4.9,8.1,5.31,5.31,0,0,0,1,6.5,5.31,5.31,0,0,0,4.9,4.9,5.31,5.31,0,0,0,6.5,1,5.31,5.31,0,0,0,8.1,4.9,5.31,5.31,0,0,0,12,6.5,5.46,5.46,0,0,0,6.5,12Z\"/>\n",
              "  </svg>\n",
              "    </button>\n",
              "    <script>\n",
              "      (() => {\n",
              "      const buttonEl =\n",
              "        document.querySelector('#id_6385a46d-b3ca-4248-afd6-8f68539cb176 button.colab-df-generate');\n",
              "      buttonEl.style.display =\n",
              "        google.colab.kernel.accessAllowed ? 'block' : 'none';\n",
              "\n",
              "      buttonEl.onclick = () => {\n",
              "        google.colab.notebook.generateWithVariable('df');\n",
              "      }\n",
              "      })();\n",
              "    </script>\n",
              "  </div>\n",
              "\n",
              "    </div>\n",
              "  </div>\n"
            ],
            "application/vnd.google.colaboratory.intrinsic+json": {
              "type": "dataframe",
              "variable_name": "df",
              "summary": "{\n  \"name\": \"df\",\n  \"rows\": 144,\n  \"fields\": [\n    {\n      \"column\": \"Month\",\n      \"properties\": {\n        \"dtype\": \"date\",\n        \"min\": \"1949-01-01 00:00:00\",\n        \"max\": \"1960-12-01 00:00:00\",\n        \"num_unique_values\": 144,\n        \"samples\": [\n          \"1958-10-01 00:00:00\",\n          \"1950-08-01 00:00:00\",\n          \"1955-11-01 00:00:00\"\n        ],\n        \"semantic_type\": \"\",\n        \"description\": \"\"\n      }\n    },\n    {\n      \"column\": \"Passengers\",\n      \"properties\": {\n        \"dtype\": \"number\",\n        \"std\": 119,\n        \"min\": 104,\n        \"max\": 622,\n        \"num_unique_values\": 118,\n        \"samples\": [\n          293,\n          340,\n          121\n        ],\n        \"semantic_type\": \"\",\n        \"description\": \"\"\n      }\n    }\n  ]\n}"
            }
          },
          "metadata": {},
          "execution_count": 53
        }
      ]
    },
    {
      "cell_type": "code",
      "source": [
        "#Check if there is any missing values\n",
        "missing_values = df.isna().sum()\n",
        "print(\"Missing values in each column:\")\n",
        "print(missing_values)"
      ],
      "metadata": {
        "id": "eq6fs2WNo_2X",
        "colab": {
          "base_uri": "https://localhost:8080/",
          "height": 0
        },
        "outputId": "6cb9a1f8-8c3d-4fa6-8d4f-730fb0f9a436"
      },
      "execution_count": 54,
      "outputs": [
        {
          "output_type": "stream",
          "name": "stdout",
          "text": [
            "Missing values in each column:\n",
            "Month         0\n",
            "Passengers    0\n",
            "dtype: int64\n"
          ]
        }
      ]
    },
    {
      "cell_type": "code",
      "source": [
        "#Let the dataset be indexed by time\n",
        "df.set_index('Month', inplace=True)\n",
        "df"
      ],
      "metadata": {
        "id": "uvFbkMJOjrXz",
        "colab": {
          "base_uri": "https://localhost:8080/",
          "height": 455
        },
        "outputId": "08c15318-5bee-4bc3-e60c-bdbfad522f1a"
      },
      "execution_count": 55,
      "outputs": [
        {
          "output_type": "execute_result",
          "data": {
            "text/plain": [
              "            Passengers\n",
              "Month                 \n",
              "1949-01-01         112\n",
              "1949-02-01         118\n",
              "1949-03-01         132\n",
              "1949-04-01         129\n",
              "1949-05-01         121\n",
              "...                ...\n",
              "1960-08-01         606\n",
              "1960-09-01         508\n",
              "1960-10-01         461\n",
              "1960-11-01         390\n",
              "1960-12-01         432\n",
              "\n",
              "[144 rows x 1 columns]"
            ],
            "text/html": [
              "\n",
              "  <div id=\"df-33053d8d-0433-4bc4-8695-1552b9903051\" class=\"colab-df-container\">\n",
              "    <div>\n",
              "<style scoped>\n",
              "    .dataframe tbody tr th:only-of-type {\n",
              "        vertical-align: middle;\n",
              "    }\n",
              "\n",
              "    .dataframe tbody tr th {\n",
              "        vertical-align: top;\n",
              "    }\n",
              "\n",
              "    .dataframe thead th {\n",
              "        text-align: right;\n",
              "    }\n",
              "</style>\n",
              "<table border=\"1\" class=\"dataframe\">\n",
              "  <thead>\n",
              "    <tr style=\"text-align: right;\">\n",
              "      <th></th>\n",
              "      <th>Passengers</th>\n",
              "    </tr>\n",
              "    <tr>\n",
              "      <th>Month</th>\n",
              "      <th></th>\n",
              "    </tr>\n",
              "  </thead>\n",
              "  <tbody>\n",
              "    <tr>\n",
              "      <th>1949-01-01</th>\n",
              "      <td>112</td>\n",
              "    </tr>\n",
              "    <tr>\n",
              "      <th>1949-02-01</th>\n",
              "      <td>118</td>\n",
              "    </tr>\n",
              "    <tr>\n",
              "      <th>1949-03-01</th>\n",
              "      <td>132</td>\n",
              "    </tr>\n",
              "    <tr>\n",
              "      <th>1949-04-01</th>\n",
              "      <td>129</td>\n",
              "    </tr>\n",
              "    <tr>\n",
              "      <th>1949-05-01</th>\n",
              "      <td>121</td>\n",
              "    </tr>\n",
              "    <tr>\n",
              "      <th>...</th>\n",
              "      <td>...</td>\n",
              "    </tr>\n",
              "    <tr>\n",
              "      <th>1960-08-01</th>\n",
              "      <td>606</td>\n",
              "    </tr>\n",
              "    <tr>\n",
              "      <th>1960-09-01</th>\n",
              "      <td>508</td>\n",
              "    </tr>\n",
              "    <tr>\n",
              "      <th>1960-10-01</th>\n",
              "      <td>461</td>\n",
              "    </tr>\n",
              "    <tr>\n",
              "      <th>1960-11-01</th>\n",
              "      <td>390</td>\n",
              "    </tr>\n",
              "    <tr>\n",
              "      <th>1960-12-01</th>\n",
              "      <td>432</td>\n",
              "    </tr>\n",
              "  </tbody>\n",
              "</table>\n",
              "<p>144 rows × 1 columns</p>\n",
              "</div>\n",
              "    <div class=\"colab-df-buttons\">\n",
              "\n",
              "  <div class=\"colab-df-container\">\n",
              "    <button class=\"colab-df-convert\" onclick=\"convertToInteractive('df-33053d8d-0433-4bc4-8695-1552b9903051')\"\n",
              "            title=\"Convert this dataframe to an interactive table.\"\n",
              "            style=\"display:none;\">\n",
              "\n",
              "  <svg xmlns=\"http://www.w3.org/2000/svg\" height=\"24px\" viewBox=\"0 -960 960 960\">\n",
              "    <path d=\"M120-120v-720h720v720H120Zm60-500h600v-160H180v160Zm220 220h160v-160H400v160Zm0 220h160v-160H400v160ZM180-400h160v-160H180v160Zm440 0h160v-160H620v160ZM180-180h160v-160H180v160Zm440 0h160v-160H620v160Z\"/>\n",
              "  </svg>\n",
              "    </button>\n",
              "\n",
              "  <style>\n",
              "    .colab-df-container {\n",
              "      display:flex;\n",
              "      gap: 12px;\n",
              "    }\n",
              "\n",
              "    .colab-df-convert {\n",
              "      background-color: #E8F0FE;\n",
              "      border: none;\n",
              "      border-radius: 50%;\n",
              "      cursor: pointer;\n",
              "      display: none;\n",
              "      fill: #1967D2;\n",
              "      height: 32px;\n",
              "      padding: 0 0 0 0;\n",
              "      width: 32px;\n",
              "    }\n",
              "\n",
              "    .colab-df-convert:hover {\n",
              "      background-color: #E2EBFA;\n",
              "      box-shadow: 0px 1px 2px rgba(60, 64, 67, 0.3), 0px 1px 3px 1px rgba(60, 64, 67, 0.15);\n",
              "      fill: #174EA6;\n",
              "    }\n",
              "\n",
              "    .colab-df-buttons div {\n",
              "      margin-bottom: 4px;\n",
              "    }\n",
              "\n",
              "    [theme=dark] .colab-df-convert {\n",
              "      background-color: #3B4455;\n",
              "      fill: #D2E3FC;\n",
              "    }\n",
              "\n",
              "    [theme=dark] .colab-df-convert:hover {\n",
              "      background-color: #434B5C;\n",
              "      box-shadow: 0px 1px 3px 1px rgba(0, 0, 0, 0.15);\n",
              "      filter: drop-shadow(0px 1px 2px rgba(0, 0, 0, 0.3));\n",
              "      fill: #FFFFFF;\n",
              "    }\n",
              "  </style>\n",
              "\n",
              "    <script>\n",
              "      const buttonEl =\n",
              "        document.querySelector('#df-33053d8d-0433-4bc4-8695-1552b9903051 button.colab-df-convert');\n",
              "      buttonEl.style.display =\n",
              "        google.colab.kernel.accessAllowed ? 'block' : 'none';\n",
              "\n",
              "      async function convertToInteractive(key) {\n",
              "        const element = document.querySelector('#df-33053d8d-0433-4bc4-8695-1552b9903051');\n",
              "        const dataTable =\n",
              "          await google.colab.kernel.invokeFunction('convertToInteractive',\n",
              "                                                    [key], {});\n",
              "        if (!dataTable) return;\n",
              "\n",
              "        const docLinkHtml = 'Like what you see? Visit the ' +\n",
              "          '<a target=\"_blank\" href=https://colab.research.google.com/notebooks/data_table.ipynb>data table notebook</a>'\n",
              "          + ' to learn more about interactive tables.';\n",
              "        element.innerHTML = '';\n",
              "        dataTable['output_type'] = 'display_data';\n",
              "        await google.colab.output.renderOutput(dataTable, element);\n",
              "        const docLink = document.createElement('div');\n",
              "        docLink.innerHTML = docLinkHtml;\n",
              "        element.appendChild(docLink);\n",
              "      }\n",
              "    </script>\n",
              "  </div>\n",
              "\n",
              "\n",
              "    <div id=\"df-08de197d-a3fb-4c06-b8b2-20f58453d69a\">\n",
              "      <button class=\"colab-df-quickchart\" onclick=\"quickchart('df-08de197d-a3fb-4c06-b8b2-20f58453d69a')\"\n",
              "                title=\"Suggest charts\"\n",
              "                style=\"display:none;\">\n",
              "\n",
              "<svg xmlns=\"http://www.w3.org/2000/svg\" height=\"24px\"viewBox=\"0 0 24 24\"\n",
              "     width=\"24px\">\n",
              "    <g>\n",
              "        <path d=\"M19 3H5c-1.1 0-2 .9-2 2v14c0 1.1.9 2 2 2h14c1.1 0 2-.9 2-2V5c0-1.1-.9-2-2-2zM9 17H7v-7h2v7zm4 0h-2V7h2v10zm4 0h-2v-4h2v4z\"/>\n",
              "    </g>\n",
              "</svg>\n",
              "      </button>\n",
              "\n",
              "<style>\n",
              "  .colab-df-quickchart {\n",
              "      --bg-color: #E8F0FE;\n",
              "      --fill-color: #1967D2;\n",
              "      --hover-bg-color: #E2EBFA;\n",
              "      --hover-fill-color: #174EA6;\n",
              "      --disabled-fill-color: #AAA;\n",
              "      --disabled-bg-color: #DDD;\n",
              "  }\n",
              "\n",
              "  [theme=dark] .colab-df-quickchart {\n",
              "      --bg-color: #3B4455;\n",
              "      --fill-color: #D2E3FC;\n",
              "      --hover-bg-color: #434B5C;\n",
              "      --hover-fill-color: #FFFFFF;\n",
              "      --disabled-bg-color: #3B4455;\n",
              "      --disabled-fill-color: #666;\n",
              "  }\n",
              "\n",
              "  .colab-df-quickchart {\n",
              "    background-color: var(--bg-color);\n",
              "    border: none;\n",
              "    border-radius: 50%;\n",
              "    cursor: pointer;\n",
              "    display: none;\n",
              "    fill: var(--fill-color);\n",
              "    height: 32px;\n",
              "    padding: 0;\n",
              "    width: 32px;\n",
              "  }\n",
              "\n",
              "  .colab-df-quickchart:hover {\n",
              "    background-color: var(--hover-bg-color);\n",
              "    box-shadow: 0 1px 2px rgba(60, 64, 67, 0.3), 0 1px 3px 1px rgba(60, 64, 67, 0.15);\n",
              "    fill: var(--button-hover-fill-color);\n",
              "  }\n",
              "\n",
              "  .colab-df-quickchart-complete:disabled,\n",
              "  .colab-df-quickchart-complete:disabled:hover {\n",
              "    background-color: var(--disabled-bg-color);\n",
              "    fill: var(--disabled-fill-color);\n",
              "    box-shadow: none;\n",
              "  }\n",
              "\n",
              "  .colab-df-spinner {\n",
              "    border: 2px solid var(--fill-color);\n",
              "    border-color: transparent;\n",
              "    border-bottom-color: var(--fill-color);\n",
              "    animation:\n",
              "      spin 1s steps(1) infinite;\n",
              "  }\n",
              "\n",
              "  @keyframes spin {\n",
              "    0% {\n",
              "      border-color: transparent;\n",
              "      border-bottom-color: var(--fill-color);\n",
              "      border-left-color: var(--fill-color);\n",
              "    }\n",
              "    20% {\n",
              "      border-color: transparent;\n",
              "      border-left-color: var(--fill-color);\n",
              "      border-top-color: var(--fill-color);\n",
              "    }\n",
              "    30% {\n",
              "      border-color: transparent;\n",
              "      border-left-color: var(--fill-color);\n",
              "      border-top-color: var(--fill-color);\n",
              "      border-right-color: var(--fill-color);\n",
              "    }\n",
              "    40% {\n",
              "      border-color: transparent;\n",
              "      border-right-color: var(--fill-color);\n",
              "      border-top-color: var(--fill-color);\n",
              "    }\n",
              "    60% {\n",
              "      border-color: transparent;\n",
              "      border-right-color: var(--fill-color);\n",
              "    }\n",
              "    80% {\n",
              "      border-color: transparent;\n",
              "      border-right-color: var(--fill-color);\n",
              "      border-bottom-color: var(--fill-color);\n",
              "    }\n",
              "    90% {\n",
              "      border-color: transparent;\n",
              "      border-bottom-color: var(--fill-color);\n",
              "    }\n",
              "  }\n",
              "</style>\n",
              "\n",
              "      <script>\n",
              "        async function quickchart(key) {\n",
              "          const quickchartButtonEl =\n",
              "            document.querySelector('#' + key + ' button');\n",
              "          quickchartButtonEl.disabled = true;  // To prevent multiple clicks.\n",
              "          quickchartButtonEl.classList.add('colab-df-spinner');\n",
              "          try {\n",
              "            const charts = await google.colab.kernel.invokeFunction(\n",
              "                'suggestCharts', [key], {});\n",
              "          } catch (error) {\n",
              "            console.error('Error during call to suggestCharts:', error);\n",
              "          }\n",
              "          quickchartButtonEl.classList.remove('colab-df-spinner');\n",
              "          quickchartButtonEl.classList.add('colab-df-quickchart-complete');\n",
              "        }\n",
              "        (() => {\n",
              "          let quickchartButtonEl =\n",
              "            document.querySelector('#df-08de197d-a3fb-4c06-b8b2-20f58453d69a button');\n",
              "          quickchartButtonEl.style.display =\n",
              "            google.colab.kernel.accessAllowed ? 'block' : 'none';\n",
              "        })();\n",
              "      </script>\n",
              "    </div>\n",
              "\n",
              "  <div id=\"id_3d3a346f-0001-4074-9304-7cc04ca6abc1\">\n",
              "    <style>\n",
              "      .colab-df-generate {\n",
              "        background-color: #E8F0FE;\n",
              "        border: none;\n",
              "        border-radius: 50%;\n",
              "        cursor: pointer;\n",
              "        display: none;\n",
              "        fill: #1967D2;\n",
              "        height: 32px;\n",
              "        padding: 0 0 0 0;\n",
              "        width: 32px;\n",
              "      }\n",
              "\n",
              "      .colab-df-generate:hover {\n",
              "        background-color: #E2EBFA;\n",
              "        box-shadow: 0px 1px 2px rgba(60, 64, 67, 0.3), 0px 1px 3px 1px rgba(60, 64, 67, 0.15);\n",
              "        fill: #174EA6;\n",
              "      }\n",
              "\n",
              "      [theme=dark] .colab-df-generate {\n",
              "        background-color: #3B4455;\n",
              "        fill: #D2E3FC;\n",
              "      }\n",
              "\n",
              "      [theme=dark] .colab-df-generate:hover {\n",
              "        background-color: #434B5C;\n",
              "        box-shadow: 0px 1px 3px 1px rgba(0, 0, 0, 0.15);\n",
              "        filter: drop-shadow(0px 1px 2px rgba(0, 0, 0, 0.3));\n",
              "        fill: #FFFFFF;\n",
              "      }\n",
              "    </style>\n",
              "    <button class=\"colab-df-generate\" onclick=\"generateWithVariable('df')\"\n",
              "            title=\"Generate code using this dataframe.\"\n",
              "            style=\"display:none;\">\n",
              "\n",
              "  <svg xmlns=\"http://www.w3.org/2000/svg\" height=\"24px\"viewBox=\"0 0 24 24\"\n",
              "       width=\"24px\">\n",
              "    <path d=\"M7,19H8.4L18.45,9,17,7.55,7,17.6ZM5,21V16.75L18.45,3.32a2,2,0,0,1,2.83,0l1.4,1.43a1.91,1.91,0,0,1,.58,1.4,1.91,1.91,0,0,1-.58,1.4L9.25,21ZM18.45,9,17,7.55Zm-12,3A5.31,5.31,0,0,0,4.9,8.1,5.31,5.31,0,0,0,1,6.5,5.31,5.31,0,0,0,4.9,4.9,5.31,5.31,0,0,0,6.5,1,5.31,5.31,0,0,0,8.1,4.9,5.31,5.31,0,0,0,12,6.5,5.46,5.46,0,0,0,6.5,12Z\"/>\n",
              "  </svg>\n",
              "    </button>\n",
              "    <script>\n",
              "      (() => {\n",
              "      const buttonEl =\n",
              "        document.querySelector('#id_3d3a346f-0001-4074-9304-7cc04ca6abc1 button.colab-df-generate');\n",
              "      buttonEl.style.display =\n",
              "        google.colab.kernel.accessAllowed ? 'block' : 'none';\n",
              "\n",
              "      buttonEl.onclick = () => {\n",
              "        google.colab.notebook.generateWithVariable('df');\n",
              "      }\n",
              "      })();\n",
              "    </script>\n",
              "  </div>\n",
              "\n",
              "    </div>\n",
              "  </div>\n"
            ],
            "application/vnd.google.colaboratory.intrinsic+json": {
              "type": "dataframe",
              "variable_name": "df",
              "summary": "{\n  \"name\": \"df\",\n  \"rows\": 144,\n  \"fields\": [\n    {\n      \"column\": \"Month\",\n      \"properties\": {\n        \"dtype\": \"date\",\n        \"min\": \"1949-01-01 00:00:00\",\n        \"max\": \"1960-12-01 00:00:00\",\n        \"num_unique_values\": 144,\n        \"samples\": [\n          \"1958-10-01 00:00:00\",\n          \"1950-08-01 00:00:00\",\n          \"1955-11-01 00:00:00\"\n        ],\n        \"semantic_type\": \"\",\n        \"description\": \"\"\n      }\n    },\n    {\n      \"column\": \"Passengers\",\n      \"properties\": {\n        \"dtype\": \"number\",\n        \"std\": 119,\n        \"min\": 104,\n        \"max\": 622,\n        \"num_unique_values\": 118,\n        \"samples\": [\n          293,\n          340,\n          121\n        ],\n        \"semantic_type\": \"\",\n        \"description\": \"\"\n      }\n    }\n  ]\n}"
            }
          },
          "metadata": {},
          "execution_count": 55
        }
      ]
    },
    {
      "cell_type": "code",
      "source": [
        "#Plot # of passenger Vs. Time\n",
        "plt.plot(df['Passengers'])"
      ],
      "metadata": {
        "id": "NvtkwaE8k1OM",
        "colab": {
          "base_uri": "https://localhost:8080/",
          "height": 447
        },
        "outputId": "18aa9d47-6206-4d76-b4a5-5b1686eb61b9"
      },
      "execution_count": 56,
      "outputs": [
        {
          "output_type": "execute_result",
          "data": {
            "text/plain": [
              "[<matplotlib.lines.Line2D at 0x7be94598b190>]"
            ]
          },
          "metadata": {},
          "execution_count": 56
        },
        {
          "output_type": "display_data",
          "data": {
            "text/plain": [
              "<Figure size 640x480 with 1 Axes>"
            ],
            "image/png": "[encoded data removed]"
          },
          "metadata": {}
        }
      ]
    },
    {
      "cell_type": "code",
      "source": [
        "#Is the data stationary?\n",
        "#Dickey-Fuller test for Stationarity test\n",
        "from statsmodels.tsa.stattools import adfuller\n",
        "adf, pvalue, usedlag_, nobs_, critical_values_, icbest_ = adfuller(df)\n",
        "print(\"pvalue = \", pvalue, \" if above 0.05, data is not stationary\")\n",
        "#Since data is not stationary, we may need SARIMA and not just ARIMA\n"
      ],
      "metadata": {
        "id": "JUl8ovS0eyx5",
        "colab": {
          "base_uri": "https://localhost:8080/",
          "height": 0
        },
        "outputId": "482d7d0f-84db-4d96-9efb-b391378a3706"
      },
      "execution_count": 57,
      "outputs": [
        {
          "output_type": "stream",
          "name": "stdout",
          "text": [
            "pvalue =  0.991880243437641  if above 0.05, data is not stationary\n"
          ]
        }
      ]
    },
    {
      "cell_type": "code",
      "source": [
        "df['year'] = [d.year for d in df.index]\n",
        "df['month'] = [d.strftime('%b') for d in df.index]\n",
        "years = df['year'].unique()\n",
        "df\n"
      ],
      "metadata": {
        "id": "gRIbNy7De3KM",
        "colab": {
          "base_uri": "https://localhost:8080/",
          "height": 455
        },
        "outputId": "10574b18-aaca-4593-fff3-46fcb69d9eae"
      },
      "execution_count": 58,
      "outputs": [
        {
          "output_type": "execute_result",
          "data": {
            "text/plain": [
              "            Passengers  year month\n",
              "Month                             \n",
              "1949-01-01         112  1949   Jan\n",
              "1949-02-01         118  1949   Feb\n",
              "1949-03-01         132  1949   Mar\n",
              "1949-04-01         129  1949   Apr\n",
              "1949-05-01         121  1949   May\n",
              "...                ...   ...   ...\n",
              "1960-08-01         606  1960   Aug\n",
              "1960-09-01         508  1960   Sep\n",
              "1960-10-01         461  1960   Oct\n",
              "1960-11-01         390  1960   Nov\n",
              "1960-12-01         432  1960   Dec\n",
              "\n",
              "[144 rows x 3 columns]"
            ],
            "text/html": [
              "\n",
              "  <div id=\"df-5ebf26db-7f14-4f50-8cbd-a8b84b42b35c\" class=\"colab-df-container\">\n",
              "    <div>\n",
              "<style scoped>\n",
              "    .dataframe tbody tr th:only-of-type {\n",
              "        vertical-align: middle;\n",
              "    }\n",
              "\n",
              "    .dataframe tbody tr th {\n",
              "        vertical-align: top;\n",
              "    }\n",
              "\n",
              "    .dataframe thead th {\n",
              "        text-align: right;\n",
              "    }\n",
              "</style>\n",
              "<table border=\"1\" class=\"dataframe\">\n",
              "  <thead>\n",
              "    <tr style=\"text-align: right;\">\n",
              "      <th></th>\n",
              "      <th>Passengers</th>\n",
              "      <th>year</th>\n",
              "      <th>month</th>\n",
              "    </tr>\n",
              "    <tr>\n",
              "      <th>Month</th>\n",
              "      <th></th>\n",
              "      <th></th>\n",
              "      <th></th>\n",
              "    </tr>\n",
              "  </thead>\n",
              "  <tbody>\n",
              "    <tr>\n",
              "      <th>1949-01-01</th>\n",
              "      <td>112</td>\n",
              "      <td>1949</td>\n",
              "      <td>Jan</td>\n",
              "    </tr>\n",
              "    <tr>\n",
              "      <th>1949-02-01</th>\n",
              "      <td>118</td>\n",
              "      <td>1949</td>\n",
              "      <td>Feb</td>\n",
              "    </tr>\n",
              "    <tr>\n",
              "      <th>1949-03-01</th>\n",
              "      <td>132</td>\n",
              "      <td>1949</td>\n",
              "      <td>Mar</td>\n",
              "    </tr>\n",
              "    <tr>\n",
              "      <th>1949-04-01</th>\n",
              "      <td>129</td>\n",
              "      <td>1949</td>\n",
              "      <td>Apr</td>\n",
              "    </tr>\n",
              "    <tr>\n",
              "      <th>1949-05-01</th>\n",
              "      <td>121</td>\n",
              "      <td>1949</td>\n",
              "      <td>May</td>\n",
              "    </tr>\n",
              "    <tr>\n",
              "      <th>...</th>\n",
              "      <td>...</td>\n",
              "      <td>...</td>\n",
              "      <td>...</td>\n",
              "    </tr>\n",
              "    <tr>\n",
              "      <th>1960-08-01</th>\n",
              "      <td>606</td>\n",
              "      <td>1960</td>\n",
              "      <td>Aug</td>\n",
              "    </tr>\n",
              "    <tr>\n",
              "      <th>1960-09-01</th>\n",
              "      <td>508</td>\n",
              "      <td>1960</td>\n",
              "      <td>Sep</td>\n",
              "    </tr>\n",
              "    <tr>\n",
              "      <th>1960-10-01</th>\n",
              "      <td>461</td>\n",
              "      <td>1960</td>\n",
              "      <td>Oct</td>\n",
              "    </tr>\n",
              "    <tr>\n",
              "      <th>1960-11-01</th>\n",
              "      <td>390</td>\n",
              "      <td>1960</td>\n",
              "      <td>Nov</td>\n",
              "    </tr>\n",
              "    <tr>\n",
              "      <th>1960-12-01</th>\n",
              "      <td>432</td>\n",
              "      <td>1960</td>\n",
              "      <td>Dec</td>\n",
              "    </tr>\n",
              "  </tbody>\n",
              "</table>\n",
              "<p>144 rows × 3 columns</p>\n",
              "</div>\n",
              "    <div class=\"colab-df-buttons\">\n",
              "\n",
              "  <div class=\"colab-df-container\">\n",
              "    <button class=\"colab-df-convert\" onclick=\"convertToInteractive('df-5ebf26db-7f14-4f50-8cbd-a8b84b42b35c')\"\n",
              "            title=\"Convert this dataframe to an interactive table.\"\n",
              "            style=\"display:none;\">\n",
              "\n",
              "  <svg xmlns=\"http://www.w3.org/2000/svg\" height=\"24px\" viewBox=\"0 -960 960 960\">\n",
              "    <path d=\"M120-120v-720h720v720H120Zm60-500h600v-160H180v160Zm220 220h160v-160H400v160Zm0 220h160v-160H400v160ZM180-400h160v-160H180v160Zm440 0h160v-160H620v160ZM180-180h160v-160H180v160Zm440 0h160v-160H620v160Z\"/>\n",
              "  </svg>\n",
              "    </button>\n",
              "\n",
              "  <style>\n",
              "    .colab-df-container {\n",
              "      display:flex;\n",
              "      gap: 12px;\n",
              "    }\n",
              "\n",
              "    .colab-df-convert {\n",
              "      background-color: #E8F0FE;\n",
              "      border: none;\n",
              "      border-radius: 50%;\n",
              "      cursor: pointer;\n",
              "      display: none;\n",
              "      fill: #1967D2;\n",
              "      height: 32px;\n",
              "      padding: 0 0 0 0;\n",
              "      width: 32px;\n",
              "    }\n",
              "\n",
              "    .colab-df-convert:hover {\n",
              "      background-color: #E2EBFA;\n",
              "      box-shadow: 0px 1px 2px rgba(60, 64, 67, 0.3), 0px 1px 3px 1px rgba(60, 64, 67, 0.15);\n",
              "      fill: #174EA6;\n",
              "    }\n",
              "\n",
              "    .colab-df-buttons div {\n",
              "      margin-bottom: 4px;\n",
              "    }\n",
              "\n",
              "    [theme=dark] .colab-df-convert {\n",
              "      background-color: #3B4455;\n",
              "      fill: #D2E3FC;\n",
              "    }\n",
              "\n",
              "    [theme=dark] .colab-df-convert:hover {\n",
              "      background-color: #434B5C;\n",
              "      box-shadow: 0px 1px 3px 1px rgba(0, 0, 0, 0.15);\n",
              "      filter: drop-shadow(0px 1px 2px rgba(0, 0, 0, 0.3));\n",
              "      fill: #FFFFFF;\n",
              "    }\n",
              "  </style>\n",
              "\n",
              "    <script>\n",
              "      const buttonEl =\n",
              "        document.querySelector('#df-5ebf26db-7f14-4f50-8cbd-a8b84b42b35c button.colab-df-convert');\n",
              "      buttonEl.style.display =\n",
              "        google.colab.kernel.accessAllowed ? 'block' : 'none';\n",
              "\n",
              "      async function convertToInteractive(key) {\n",
              "        const element = document.querySelector('#df-5ebf26db-7f14-4f50-8cbd-a8b84b42b35c');\n",
              "        const dataTable =\n",
              "          await google.colab.kernel.invokeFunction('convertToInteractive',\n",
              "                                                    [key], {});\n",
              "        if (!dataTable) return;\n",
              "\n",
              "        const docLinkHtml = 'Like what you see? Visit the ' +\n",
              "          '<a target=\"_blank\" href=https://colab.research.google.com/notebooks/data_table.ipynb>data table notebook</a>'\n",
              "          + ' to learn more about interactive tables.';\n",
              "        element.innerHTML = '';\n",
              "        dataTable['output_type'] = 'display_data';\n",
              "        await google.colab.output.renderOutput(dataTable, element);\n",
              "        const docLink = document.createElement('div');\n",
              "        docLink.innerHTML = docLinkHtml;\n",
              "        element.appendChild(docLink);\n",
              "      }\n",
              "    </script>\n",
              "  </div>\n",
              "\n",
              "\n",
              "    <div id=\"df-a611143f-3fb1-40f8-9680-fcd0b9375cc1\">\n",
              "      <button class=\"colab-df-quickchart\" onclick=\"quickchart('df-a611143f-3fb1-40f8-9680-fcd0b9375cc1')\"\n",
              "                title=\"Suggest charts\"\n",
              "                style=\"display:none;\">\n",
              "\n",
              "<svg xmlns=\"http://www.w3.org/2000/svg\" height=\"24px\"viewBox=\"0 0 24 24\"\n",
              "     width=\"24px\">\n",
              "    <g>\n",
              "        <path d=\"M19 3H5c-1.1 0-2 .9-2 2v14c0 1.1.9 2 2 2h14c1.1 0 2-.9 2-2V5c0-1.1-.9-2-2-2zM9 17H7v-7h2v7zm4 0h-2V7h2v10zm4 0h-2v-4h2v4z\"/>\n",
              "    </g>\n",
              "</svg>\n",
              "      </button>\n",
              "\n",
              "<style>\n",
              "  .colab-df-quickchart {\n",
              "      --bg-color: #E8F0FE;\n",
              "      --fill-color: #1967D2;\n",
              "      --hover-bg-color: #E2EBFA;\n",
              "      --hover-fill-color: #174EA6;\n",
              "      --disabled-fill-color: #AAA;\n",
              "      --disabled-bg-color: #DDD;\n",
              "  }\n",
              "\n",
              "  [theme=dark] .colab-df-quickchart {\n",
              "      --bg-color: #3B4455;\n",
              "      --fill-color: #D2E3FC;\n",
              "      --hover-bg-color: #434B5C;\n",
              "      --hover-fill-color: #FFFFFF;\n",
              "      --disabled-bg-color: #3B4455;\n",
              "      --disabled-fill-color: #666;\n",
              "  }\n",
              "\n",
              "  .colab-df-quickchart {\n",
              "    background-color: var(--bg-color);\n",
              "    border: none;\n",
              "    border-radius: 50%;\n",
              "    cursor: pointer;\n",
              "    display: none;\n",
              "    fill: var(--fill-color);\n",
              "    height: 32px;\n",
              "    padding: 0;\n",
              "    width: 32px;\n",
              "  }\n",
              "\n",
              "  .colab-df-quickchart:hover {\n",
              "    background-color: var(--hover-bg-color);\n",
              "    box-shadow: 0 1px 2px rgba(60, 64, 67, 0.3), 0 1px 3px 1px rgba(60, 64, 67, 0.15);\n",
              "    fill: var(--button-hover-fill-color);\n",
              "  }\n",
              "\n",
              "  .colab-df-quickchart-complete:disabled,\n",
              "  .colab-df-quickchart-complete:disabled:hover {\n",
              "    background-color: var(--disabled-bg-color);\n",
              "    fill: var(--disabled-fill-color);\n",
              "    box-shadow: none;\n",
              "  }\n",
              "\n",
              "  .colab-df-spinner {\n",
              "    border: 2px solid var(--fill-color);\n",
              "    border-color: transparent;\n",
              "    border-bottom-color: var(--fill-color);\n",
              "    animation:\n",
              "      spin 1s steps(1) infinite;\n",
              "  }\n",
              "\n",
              "  @keyframes spin {\n",
              "    0% {\n",
              "      border-color: transparent;\n",
              "      border-bottom-color: var(--fill-color);\n",
              "      border-left-color: var(--fill-color);\n",
              "    }\n",
              "    20% {\n",
              "      border-color: transparent;\n",
              "      border-left-color: var(--fill-color);\n",
              "      border-top-color: var(--fill-color);\n",
              "    }\n",
              "    30% {\n",
              "      border-color: transparent;\n",
              "      border-left-color: var(--fill-color);\n",
              "      border-top-color: var(--fill-color);\n",
              "      border-right-color: var(--fill-color);\n",
              "    }\n",
              "    40% {\n",
              "      border-color: transparent;\n",
              "      border-right-color: var(--fill-color);\n",
              "      border-top-color: var(--fill-color);\n",
              "    }\n",
              "    60% {\n",
              "      border-color: transparent;\n",
              "      border-right-color: var(--fill-color);\n",
              "    }\n",
              "    80% {\n",
              "      border-color: transparent;\n",
              "      border-right-color: var(--fill-color);\n",
              "      border-bottom-color: var(--fill-color);\n",
              "    }\n",
              "    90% {\n",
              "      border-color: transparent;\n",
              "      border-bottom-color: var(--fill-color);\n",
              "    }\n",
              "  }\n",
              "</style>\n",
              "\n",
              "      <script>\n",
              "        async function quickchart(key) {\n",
              "          const quickchartButtonEl =\n",
              "            document.querySelector('#' + key + ' button');\n",
              "          quickchartButtonEl.disabled = true;  // To prevent multiple clicks.\n",
              "          quickchartButtonEl.classList.add('colab-df-spinner');\n",
              "          try {\n",
              "            const charts = await google.colab.kernel.invokeFunction(\n",
              "                'suggestCharts', [key], {});\n",
              "          } catch (error) {\n",
              "            console.error('Error during call to suggestCharts:', error);\n",
              "          }\n",
              "          quickchartButtonEl.classList.remove('colab-df-spinner');\n",
              "          quickchartButtonEl.classList.add('colab-df-quickchart-complete');\n",
              "        }\n",
              "        (() => {\n",
              "          let quickchartButtonEl =\n",
              "            document.querySelector('#df-a611143f-3fb1-40f8-9680-fcd0b9375cc1 button');\n",
              "          quickchartButtonEl.style.display =\n",
              "            google.colab.kernel.accessAllowed ? 'block' : 'none';\n",
              "        })();\n",
              "      </script>\n",
              "    </div>\n",
              "\n",
              "  <div id=\"id_cd012898-fcb7-419c-b064-4e76c17e2978\">\n",
              "    <style>\n",
              "      .colab-df-generate {\n",
              "        background-color: #E8F0FE;\n",
              "        border: none;\n",
              "        border-radius: 50%;\n",
              "        cursor: pointer;\n",
              "        display: none;\n",
              "        fill: #1967D2;\n",
              "        height: 32px;\n",
              "        padding: 0 0 0 0;\n",
              "        width: 32px;\n",
              "      }\n",
              "\n",
              "      .colab-df-generate:hover {\n",
              "        background-color: #E2EBFA;\n",
              "        box-shadow: 0px 1px 2px rgba(60, 64, 67, 0.3), 0px 1px 3px 1px rgba(60, 64, 67, 0.15);\n",
              "        fill: #174EA6;\n",
              "      }\n",
              "\n",
              "      [theme=dark] .colab-df-generate {\n",
              "        background-color: #3B4455;\n",
              "        fill: #D2E3FC;\n",
              "      }\n",
              "\n",
              "      [theme=dark] .colab-df-generate:hover {\n",
              "        background-color: #434B5C;\n",
              "        box-shadow: 0px 1px 3px 1px rgba(0, 0, 0, 0.15);\n",
              "        filter: drop-shadow(0px 1px 2px rgba(0, 0, 0, 0.3));\n",
              "        fill: #FFFFFF;\n",
              "      }\n",
              "    </style>\n",
              "    <button class=\"colab-df-generate\" onclick=\"generateWithVariable('df')\"\n",
              "            title=\"Generate code using this dataframe.\"\n",
              "            style=\"display:none;\">\n",
              "\n",
              "  <svg xmlns=\"http://www.w3.org/2000/svg\" height=\"24px\"viewBox=\"0 0 24 24\"\n",
              "       width=\"24px\">\n",
              "    <path d=\"M7,19H8.4L18.45,9,17,7.55,7,17.6ZM5,21V16.75L18.45,3.32a2,2,0,0,1,2.83,0l1.4,1.43a1.91,1.91,0,0,1,.58,1.4,1.91,1.91,0,0,1-.58,1.4L9.25,21ZM18.45,9,17,7.55Zm-12,3A5.31,5.31,0,0,0,4.9,8.1,5.31,5.31,0,0,0,1,6.5,5.31,5.31,0,0,0,4.9,4.9,5.31,5.31,0,0,0,6.5,1,5.31,5.31,0,0,0,8.1,4.9,5.31,5.31,0,0,0,12,6.5,5.46,5.46,0,0,0,6.5,12Z\"/>\n",
              "  </svg>\n",
              "    </button>\n",
              "    <script>\n",
              "      (() => {\n",
              "      const buttonEl =\n",
              "        document.querySelector('#id_cd012898-fcb7-419c-b064-4e76c17e2978 button.colab-df-generate');\n",
              "      buttonEl.style.display =\n",
              "        google.colab.kernel.accessAllowed ? 'block' : 'none';\n",
              "\n",
              "      buttonEl.onclick = () => {\n",
              "        google.colab.notebook.generateWithVariable('df');\n",
              "      }\n",
              "      })();\n",
              "    </script>\n",
              "  </div>\n",
              "\n",
              "    </div>\n",
              "  </div>\n"
            ],
            "application/vnd.google.colaboratory.intrinsic+json": {
              "type": "dataframe",
              "variable_name": "df",
              "summary": "{\n  \"name\": \"df\",\n  \"rows\": 144,\n  \"fields\": [\n    {\n      \"column\": \"Month\",\n      \"properties\": {\n        \"dtype\": \"date\",\n        \"min\": \"1949-01-01 00:00:00\",\n        \"max\": \"1960-12-01 00:00:00\",\n        \"num_unique_values\": 144,\n        \"samples\": [\n          \"1958-10-01 00:00:00\",\n          \"1950-08-01 00:00:00\",\n          \"1955-11-01 00:00:00\"\n        ],\n        \"semantic_type\": \"\",\n        \"description\": \"\"\n      }\n    },\n    {\n      \"column\": \"Passengers\",\n      \"properties\": {\n        \"dtype\": \"number\",\n        \"std\": 119,\n        \"min\": 104,\n        \"max\": 622,\n        \"num_unique_values\": 118,\n        \"samples\": [\n          293,\n          340,\n          121\n        ],\n        \"semantic_type\": \"\",\n        \"description\": \"\"\n      }\n    },\n    {\n      \"column\": \"year\",\n      \"properties\": {\n        \"dtype\": \"number\",\n        \"std\": 3,\n        \"min\": 1949,\n        \"max\": 1960,\n        \"num_unique_values\": 12,\n        \"samples\": [\n          1959,\n          1958,\n          1949\n        ],\n        \"semantic_type\": \"\",\n        \"description\": \"\"\n      }\n    },\n    {\n      \"column\": \"month\",\n      \"properties\": {\n        \"dtype\": \"category\",\n        \"num_unique_values\": 12,\n        \"samples\": [\n          \"Nov\",\n          \"Oct\",\n          \"Jan\"\n        ],\n        \"semantic_type\": \"\",\n        \"description\": \"\"\n      }\n    }\n  ]\n}"
            }
          },
          "metadata": {},
          "execution_count": 58
        }
      ]
    },
    {
      "cell_type": "code",
      "source": [
        "#Plot yearly and monthly values as boxplot\n",
        "sns.boxplot(x='year', y='Passengers', data=df)\n"
      ],
      "metadata": {
        "id": "m2j5TfPgnLs2",
        "colab": {
          "base_uri": "https://localhost:8080/",
          "height": 466
        },
        "outputId": "7933278a-852c-4f44-f1e7-e77a34cbc100"
      },
      "execution_count": 59,
      "outputs": [
        {
          "output_type": "execute_result",
          "data": {
            "text/plain": [
              "<Axes: xlabel='year', ylabel='Passengers'>"
            ]
          },
          "metadata": {},
          "execution_count": 59
        },
        {
          "output_type": "display_data",
          "data": {
            "text/plain": [
              "<Figure size 640x480 with 1 Axes>"
            ],
            "image/png": "[encoded data removed]"
          },
          "metadata": {}
        }
      ]
    },
    {
      "cell_type": "code",
      "source": [
        "#Plot yearly and monthly values as boxplot\n",
        "sns.boxplot(x='month', y='Passengers', data=df)\n"
      ],
      "metadata": {
        "id": "MdaIu1-rlRA9",
        "colab": {
          "base_uri": "https://localhost:8080/",
          "height": 466
        },
        "outputId": "61967970-55ca-4bf2-e5d2-0de186ce3910"
      },
      "execution_count": 60,
      "outputs": [
        {
          "output_type": "execute_result",
          "data": {
            "text/plain": [
              "<Axes: xlabel='month', ylabel='Passengers'>"
            ]
          },
          "metadata": {},
          "execution_count": 60
        },
        {
          "output_type": "display_data",
          "data": {
            "text/plain": [
              "<Figure size 640x480 with 1 Axes>"
            ],
            "image/png": "[encoded data removed]"
          },
          "metadata": {}
        }
      ]
    },
    {
      "cell_type": "code",
      "source": [
        "#Extract and plot trend, seasonal and residuals.\n",
        "from statsmodels.tsa.seasonal import seasonal_decompose\n",
        "decomposed = seasonal_decompose(df['Passengers'],\n",
        "                            model ='additive')\n",
        "\n",
        "#Additive time series:\n",
        "#Value = Base Level + Trend + Seasonality + Error\n",
        "#Multiplicative Time Series:\n",
        "#Value = Base Level x Trend x Seasonality x Error\n",
        "\n",
        "trend = decomposed.trend\n",
        "seasonal = decomposed.seasonal #Cyclic behavior may not be seasonal!\n",
        "residual = decomposed.resid\n",
        "\n",
        "plt.figure(figsize=(12,8))\n",
        "plt.subplot(411)\n",
        "plt.plot(df['Passengers'], label='Original', color='yellow')\n",
        "plt.legend(loc='upper left')\n",
        "plt.subplot(412)\n",
        "plt.plot(trend, label='Trend', color='yellow')\n",
        "plt.legend(loc='upper left')\n",
        "plt.subplot(413)\n",
        "plt.plot(seasonal, label='Seasonal', color='yellow')\n",
        "plt.legend(loc='upper left')\n",
        "plt.subplot(414)\n",
        "plt.plot(residual, label='Residual', color='yellow')\n",
        "plt.legend(loc='upper left')\n",
        "plt.show()\n"
      ],
      "metadata": {
        "id": "ddQ7J5vae-J9",
        "colab": {
          "base_uri": "https://localhost:8080/",
          "height": 676
        },
        "outputId": "c20c13c9-1f13-4864-ff97-d74dde9e920c"
      },
      "execution_count": 61,
      "outputs": [
        {
          "output_type": "display_data",
          "data": {
            "text/plain": [
              "<Figure size 1200x800 with 4 Axes>"
            ],
            "image/png": "[encoded data removed]"
          },
          "metadata": {}
        }
      ]
    },
    {
      "cell_type": "code",
      "source": [
        "#AUTOCORRELATION\n",
        "#Autocorrelation is simply the correlation of a series with its own lags.\n",
        "# Plot lag on x axis and correlation on y axis\n",
        "#Any correlation above confidence lnes are statistically significant.\n",
        "\n",
        "from statsmodels.tsa.stattools import acf\n",
        "\n",
        "acf_144 = acf(df.Passengers, nlags=144)\n",
        "plt.plot(acf_144)\n",
        "\n",
        "#Obtain the same but with single line and more info...\n",
        "from pandas.plotting import autocorrelation_plot\n",
        "autocorrelation_plot(df.Passengers)\n",
        "#Horizontal bands indicate 95% and 99% (dashed) confidence bands\n",
        "\n",
        "#A strong positive correlation for lags below 40 (months)"
      ],
      "metadata": {
        "id": "pzpJjmhjgHJQ",
        "colab": {
          "base_uri": "https://localhost:8080/",
          "height": 472
        },
        "outputId": "c2fa3eb1-8690-4434-dac9-6cc88137b4a9"
      },
      "execution_count": 62,
      "outputs": [
        {
          "output_type": "execute_result",
          "data": {
            "text/plain": [
              "<Axes: xlabel='Lag', ylabel='Autocorrelation'>"
            ]
          },
          "metadata": {},
          "execution_count": 62
        },
        {
          "output_type": "display_data",
          "data": {
            "text/plain": [
              "<Figure size 640x480 with 1 Axes>"
            ],
            "image/png": "[encoded data removed]"
          },
          "metadata": {}
        }
      ]
    },
    {
      "cell_type": "markdown",
      "source": [
        "#**Time-Seriese Forcasting Using Feed Forward Neural Network (FNN)**"
      ],
      "metadata": {
        "id": "kvmydU0Qqhzc"
      }
    },
    {
      "cell_type": "code",
      "source": [
        "import numpy as np\n",
        "import matplotlib.pyplot as plt\n",
        "from pandas import read_csv\n",
        "import math\n",
        "\n",
        "#Machine learning Libraries\n",
        "\n",
        "from keras.models import Sequential\n",
        "\n",
        "#importing a fully connected layers\n",
        "from keras.layers import Dense\n",
        "\n",
        "from sklearn.preprocessing import MinMaxScaler\n",
        "from sklearn.metrics import mean_squared_error\n",
        "\n"
      ],
      "metadata": {
        "id": "sn8WSaNsgwJ6"
      },
      "execution_count": 63,
      "outputs": []
    },
    {
      "cell_type": "code",
      "source": [
        "# load the dataset\n",
        "dataframe = read_csv('AirPassengers.csv', usecols=[1])\n",
        "plt.plot(dataframe)"
      ],
      "metadata": {
        "id": "A7OGhtoOrn4a",
        "colab": {
          "base_uri": "https://localhost:8080/",
          "height": 447
        },
        "outputId": "7773cbee-05bc-4ca3-c57f-39e83fbe4ab2"
      },
      "execution_count": 64,
      "outputs": [
        {
          "output_type": "execute_result",
          "data": {
            "text/plain": [
              "[<matplotlib.lines.Line2D at 0x7be9440f1850>]"
            ]
          },
          "metadata": {},
          "execution_count": 64
        },
        {
          "output_type": "display_data",
          "data": {
            "text/plain": [
              "<Figure size 640x480 with 1 Axes>"
            ],
            "image/png": "[encoded data removed]"
          },
          "metadata": {}
        }
      ]
    },
    {
      "cell_type": "code",
      "source": [
        "#Convert pandas dataframe to numpy array which is the suitable data type when working with keras\n",
        "dataset = dataframe.values\n",
        "dataset = dataset.astype('float32') #COnvert values to float\n",
        "#dataset\n"
      ],
      "metadata": {
        "id": "O90_UrS2g7pt"
      },
      "execution_count": 65,
      "outputs": []
    },
    {
      "cell_type": "code",
      "source": [
        "dataset.shape"
      ],
      "metadata": {
        "id": "25T6WzYjsusC",
        "colab": {
          "base_uri": "https://localhost:8080/",
          "height": 0
        },
        "outputId": "0711d776-6dd0-4e29-9ced-09f06b54a1c6"
      },
      "execution_count": 66,
      "outputs": [
        {
          "output_type": "execute_result",
          "data": {
            "text/plain": [
              "(144, 1)"
            ]
          },
          "metadata": {},
          "execution_count": 66
        }
      ]
    },
    {
      "cell_type": "code",
      "source": [
        "# Normalization is optional but recommended for neural network as certain\n",
        "# activation functions are sensitive to magnitude of numbers.\n",
        "# normalize the dataset\n",
        "scaler = MinMaxScaler(feature_range=(0, 1)) #Also try QuantileTransformer\n",
        "dataset = scaler.fit_transform(dataset)\n",
        "#dataset"
      ],
      "metadata": {
        "id": "cdq3g_X7sRoz"
      },
      "execution_count": 67,
      "outputs": []
    },
    {
      "cell_type": "code",
      "source": [
        "#We cannot use random way of splitting dataset into train and test as\n",
        "#the sequence of events is important for time series.\n",
        "#So let us take first 60% values for train and the remaining 1/3 for testing\n",
        "# split into train and test sets\n",
        "train_size = int(len(dataset) * 0.66)\n",
        "test_size = len(dataset) - train_size\n",
        "train, test = dataset[0:train_size,:], dataset[train_size:len(dataset),:]\n"
      ],
      "metadata": {
        "id": "61Rr3yRdsWCY"
      },
      "execution_count": 68,
      "outputs": []
    },
    {
      "cell_type": "code",
      "source": [
        "train.shape\n",
        "#test.shape"
      ],
      "metadata": {
        "id": "ZLJ02ZE4tKQm",
        "colab": {
          "base_uri": "https://localhost:8080/",
          "height": 0
        },
        "outputId": "532ce5e2-6fdb-44a9-fbe3-710ede34d2bf"
      },
      "execution_count": 69,
      "outputs": [
        {
          "output_type": "execute_result",
          "data": {
            "text/plain": [
              "(95, 1)"
            ]
          },
          "metadata": {},
          "execution_count": 69
        }
      ]
    },
    {
      "cell_type": "code",
      "source": [
        "# We cannot fit the model like we normally do for image processing where we have\n",
        "#X and Y. We need to transform our data into something that looks like X and Y values.\n",
        "# This way it can be trained on a sequence rather than indvidual datapoints.\n",
        "# Let us convert into n number of columns for X where we feed sequence of numbers\n",
        "#then the final column as Y where we provide the next number in the sequence as output.\n",
        "# So let us convert an array of values into a dataset matrix\n",
        "\n",
        "#seq_size is the number of previous time steps to use as\n",
        "#input variables to predict the next time period.\n",
        "\n",
        "#creates a dataset where X is the number of passengers at a given time (t, t-1, t-2...)\n",
        "#and Y is the number of passengers at the next time (t + 1).\n",
        "\n",
        "def to_sequences(dataset, seq_size=1):\n",
        "    x = []\n",
        "    y = []\n",
        "\n",
        "    for i in range(len(dataset)-seq_size-1):\n",
        "        #print(i)\n",
        "        window = dataset[i:(i+seq_size), 0]\n",
        "        x.append(window)\n",
        "        y.append(dataset[i+seq_size, 0])\n",
        "\n",
        "    return np.array(x),np.array(y)\n",
        "\n",
        "\n",
        "seq_size = 10 # Number of time steps to look back\n",
        "#Larger sequences (look further back) may improve forecasting.\n",
        "trainX, trainY = to_sequences(train, seq_size)\n",
        "testX, testY = to_sequences(test, seq_size)\n",
        "\n",
        "#Compare trainX and dataset. You can see that X= values at t, t+1 and t+2\n",
        "#whereas Y is the value that follows, t+3 (since our sequence size is 3)\n"
      ],
      "metadata": {
        "id": "Ajswy23lhZTL"
      },
      "execution_count": 70,
      "outputs": []
    },
    {
      "cell_type": "code",
      "source": [
        "trainX"
      ],
      "metadata": {
        "id": "U0mWQniAveTF",
        "colab": {
          "base_uri": "https://localhost:8080/",
          "height": 0
        },
        "outputId": "7cade7c3-0fd3-4421-c6a9-a5f1b46a58bf"
      },
      "execution_count": 71,
      "outputs": [
        {
          "output_type": "execute_result",
          "data": {
            "text/plain": [
              "array([[0.01544401, 0.02702703, 0.05405405, 0.04826255, 0.03281853,\n",
              "        0.05984557, 0.08494207, 0.08494207, 0.06177607, 0.02895753],\n",
              "       [0.02702703, 0.05405405, 0.04826255, 0.03281853, 0.05984557,\n",
              "        0.08494207, 0.08494207, 0.06177607, 0.02895753, 0.        ],\n",
              "       [0.05405405, 0.04826255, 0.03281853, 0.05984557, 0.08494207,\n",
              "        0.08494207, 0.06177607, 0.02895753, 0.        , 0.02702703],\n",
              "       [0.04826255, 0.03281853, 0.05984557, 0.08494207, 0.08494207,\n",
              "        0.06177607, 0.02895753, 0.        , 0.02702703, 0.02123553],\n",
              "       [0.03281853, 0.05984557, 0.08494207, 0.08494207, 0.06177607,\n",
              "        0.02895753, 0.        , 0.02702703, 0.02123553, 0.04247104],\n",
              "       [0.05984557, 0.08494207, 0.08494207, 0.06177607, 0.02895753,\n",
              "        0.        , 0.02702703, 0.02123553, 0.04247104, 0.07142857],\n",
              "       [0.08494207, 0.08494207, 0.06177607, 0.02895753, 0.        ,\n",
              "        0.02702703, 0.02123553, 0.04247104, 0.07142857, 0.05984557],\n",
              "       [0.08494207, 0.06177607, 0.02895753, 0.        , 0.02702703,\n",
              "        0.02123553, 0.04247104, 0.07142857, 0.05984557, 0.04054055],\n",
              "       [0.06177607, 0.02895753, 0.        , 0.02702703, 0.02123553,\n",
              "        0.04247104, 0.07142857, 0.05984557, 0.04054055, 0.08687258],\n",
              "       [0.02895753, 0.        , 0.02702703, 0.02123553, 0.04247104,\n",
              "        0.07142857, 0.05984557, 0.04054055, 0.08687258, 0.12741312],\n",
              "       [0.        , 0.02702703, 0.02123553, 0.04247104, 0.07142857,\n",
              "        0.05984557, 0.04054055, 0.08687258, 0.12741312, 0.12741312],\n",
              "       [0.02702703, 0.02123553, 0.04247104, 0.07142857, 0.05984557,\n",
              "        0.04054055, 0.08687258, 0.12741312, 0.12741312, 0.10424709],\n",
              "       [0.02123553, 0.04247104, 0.07142857, 0.05984557, 0.04054055,\n",
              "        0.08687258, 0.12741312, 0.12741312, 0.10424709, 0.05598456],\n",
              "       [0.04247104, 0.07142857, 0.05984557, 0.04054055, 0.08687258,\n",
              "        0.12741312, 0.12741312, 0.10424709, 0.05598456, 0.01930502],\n",
              "       [0.07142857, 0.05984557, 0.04054055, 0.08687258, 0.12741312,\n",
              "        0.12741312, 0.10424709, 0.05598456, 0.01930502, 0.06949806],\n",
              "       [0.05984557, 0.04054055, 0.08687258, 0.12741312, 0.12741312,\n",
              "        0.10424709, 0.05598456, 0.01930502, 0.06949806, 0.07915059],\n",
              "       [0.04054055, 0.08687258, 0.12741312, 0.12741312, 0.10424709,\n",
              "        0.05598456, 0.01930502, 0.06949806, 0.07915059, 0.08880308],\n",
              "       [0.08687258, 0.12741312, 0.12741312, 0.10424709, 0.05598456,\n",
              "        0.01930502, 0.06949806, 0.07915059, 0.08880308, 0.14285713],\n",
              "       [0.12741312, 0.12741312, 0.10424709, 0.05598456, 0.01930502,\n",
              "        0.06949806, 0.07915059, 0.08880308, 0.14285713, 0.11389962],\n",
              "       [0.12741312, 0.10424709, 0.05598456, 0.01930502, 0.06949806,\n",
              "        0.07915059, 0.08880308, 0.14285713, 0.11389962, 0.13127413],\n",
              "       [0.10424709, 0.05598456, 0.01930502, 0.06949806, 0.07915059,\n",
              "        0.08880308, 0.14285713, 0.11389962, 0.13127413, 0.14285713],\n",
              "       [0.05598456, 0.01930502, 0.06949806, 0.07915059, 0.08880308,\n",
              "        0.14285713, 0.11389962, 0.13127413, 0.14285713, 0.18339768],\n",
              "       [0.01930502, 0.06949806, 0.07915059, 0.08880308, 0.14285713,\n",
              "        0.11389962, 0.13127413, 0.14285713, 0.18339768, 0.18339768],\n",
              "       [0.06949806, 0.07915059, 0.08880308, 0.14285713, 0.11389962,\n",
              "        0.13127413, 0.14285713, 0.18339768, 0.18339768, 0.15444016],\n",
              "       [0.07915059, 0.08880308, 0.14285713, 0.11389962, 0.13127413,\n",
              "        0.14285713, 0.18339768, 0.18339768, 0.15444016, 0.11196911],\n",
              "       [0.08880308, 0.14285713, 0.11389962, 0.13127413, 0.14285713,\n",
              "        0.18339768, 0.18339768, 0.15444016, 0.11196911, 0.08108109],\n",
              "       [0.14285713, 0.11389962, 0.13127413, 0.14285713, 0.18339768,\n",
              "        0.18339768, 0.15444016, 0.11196911, 0.08108109, 0.1196911 ],\n",
              "       [0.11389962, 0.13127413, 0.14285713, 0.18339768, 0.18339768,\n",
              "        0.15444016, 0.11196911, 0.08108109, 0.1196911 , 0.12934363],\n",
              "       [0.13127413, 0.14285713, 0.18339768, 0.18339768, 0.15444016,\n",
              "        0.11196911, 0.08108109, 0.1196911 , 0.12934363, 0.14671814],\n",
              "       [0.14285713, 0.18339768, 0.18339768, 0.15444016, 0.11196911,\n",
              "        0.08108109, 0.1196911 , 0.12934363, 0.14671814, 0.17181468],\n",
              "       [0.18339768, 0.18339768, 0.15444016, 0.11196911, 0.08108109,\n",
              "        0.1196911 , 0.12934363, 0.14671814, 0.17181468, 0.14864865],\n",
              "       [0.18339768, 0.15444016, 0.11196911, 0.08108109, 0.1196911 ,\n",
              "        0.12934363, 0.14671814, 0.17181468, 0.14864865, 0.15250966],\n",
              "       [0.15444016, 0.11196911, 0.08108109, 0.1196911 , 0.12934363,\n",
              "        0.14671814, 0.17181468, 0.14864865, 0.15250966, 0.22007722],\n",
              "       [0.11196911, 0.08108109, 0.1196911 , 0.12934363, 0.14671814,\n",
              "        0.17181468, 0.14864865, 0.15250966, 0.22007722, 0.24324325],\n",
              "       [0.08108109, 0.1196911 , 0.12934363, 0.14671814, 0.17181468,\n",
              "        0.14864865, 0.15250966, 0.22007722, 0.24324325, 0.26640925],\n",
              "       [0.1196911 , 0.12934363, 0.14671814, 0.17181468, 0.14864865,\n",
              "        0.15250966, 0.22007722, 0.24324325, 0.26640925, 0.2027027 ],\n",
              "       [0.12934363, 0.14671814, 0.17181468, 0.14864865, 0.15250966,\n",
              "        0.22007722, 0.24324325, 0.26640925, 0.2027027 , 0.16795367],\n",
              "       [0.14671814, 0.17181468, 0.14864865, 0.15250966, 0.22007722,\n",
              "        0.24324325, 0.26640925, 0.2027027 , 0.16795367, 0.13127413],\n",
              "       [0.17181468, 0.14864865, 0.15250966, 0.22007722, 0.24324325,\n",
              "        0.26640925, 0.2027027 , 0.16795367, 0.13127413, 0.17374519],\n",
              "       [0.14864865, 0.15250966, 0.22007722, 0.24324325, 0.26640925,\n",
              "        0.2027027 , 0.16795367, 0.13127413, 0.17374519, 0.17760617],\n",
              "       [0.15250966, 0.22007722, 0.24324325, 0.26640925, 0.2027027 ,\n",
              "        0.16795367, 0.13127413, 0.17374519, 0.17760617, 0.17760617],\n",
              "       [0.22007722, 0.24324325, 0.26640925, 0.2027027 , 0.16795367,\n",
              "        0.13127413, 0.17374519, 0.17760617, 0.17760617, 0.25482625],\n",
              "       [0.24324325, 0.26640925, 0.2027027 , 0.16795367, 0.13127413,\n",
              "        0.17374519, 0.17760617, 0.17760617, 0.25482625, 0.25289574],\n",
              "       [0.26640925, 0.2027027 , 0.16795367, 0.13127413, 0.17374519,\n",
              "        0.17760617, 0.17760617, 0.25482625, 0.25289574, 0.24131274],\n",
              "       [0.2027027 , 0.16795367, 0.13127413, 0.17374519, 0.17760617,\n",
              "        0.17760617, 0.25482625, 0.25289574, 0.24131274, 0.26833975],\n",
              "       [0.16795367, 0.13127413, 0.17374519, 0.17760617, 0.17760617,\n",
              "        0.25482625, 0.25289574, 0.24131274, 0.26833975, 0.3088803 ],\n",
              "       [0.13127413, 0.17374519, 0.17760617, 0.17760617, 0.25482625,\n",
              "        0.25289574, 0.24131274, 0.26833975, 0.3088803 , 0.32432434],\n",
              "       [0.17374519, 0.17760617, 0.17760617, 0.25482625, 0.25289574,\n",
              "        0.24131274, 0.26833975, 0.3088803 , 0.32432434, 0.25675675],\n",
              "       [0.17760617, 0.17760617, 0.25482625, 0.25289574, 0.24131274,\n",
              "        0.26833975, 0.3088803 , 0.32432434, 0.25675675, 0.20656371],\n",
              "       [0.17760617, 0.25482625, 0.25289574, 0.24131274, 0.26833975,\n",
              "        0.3088803 , 0.32432434, 0.25675675, 0.20656371, 0.14671814],\n",
              "       [0.25482625, 0.25289574, 0.24131274, 0.26833975, 0.3088803 ,\n",
              "        0.32432434, 0.25675675, 0.20656371, 0.14671814, 0.18725869],\n",
              "       [0.25289574, 0.24131274, 0.26833975, 0.3088803 , 0.32432434,\n",
              "        0.25675675, 0.20656371, 0.14671814, 0.18725869, 0.19305018],\n",
              "       [0.24131274, 0.26833975, 0.3088803 , 0.32432434, 0.25675675,\n",
              "        0.20656371, 0.14671814, 0.18725869, 0.19305018, 0.16216215],\n",
              "       [0.26833975, 0.3088803 , 0.32432434, 0.25675675, 0.20656371,\n",
              "        0.14671814, 0.18725869, 0.19305018, 0.16216215, 0.25289574],\n",
              "       [0.3088803 , 0.32432434, 0.25675675, 0.20656371, 0.14671814,\n",
              "        0.18725869, 0.19305018, 0.16216215, 0.25289574, 0.23745173],\n",
              "       [0.32432434, 0.25675675, 0.20656371, 0.14671814, 0.18725869,\n",
              "        0.19305018, 0.16216215, 0.25289574, 0.23745173, 0.25096524],\n",
              "       [0.25675675, 0.20656371, 0.14671814, 0.18725869, 0.19305018,\n",
              "        0.16216215, 0.25289574, 0.23745173, 0.25096524, 0.3088803 ],\n",
              "       [0.20656371, 0.14671814, 0.18725869, 0.19305018, 0.16216215,\n",
              "        0.25289574, 0.23745173, 0.25096524, 0.3088803 , 0.38223937],\n",
              "       [0.14671814, 0.18725869, 0.19305018, 0.16216215, 0.25289574,\n",
              "        0.23745173, 0.25096524, 0.3088803 , 0.38223937, 0.36486486],\n",
              "       [0.18725869, 0.19305018, 0.16216215, 0.25289574, 0.23745173,\n",
              "        0.25096524, 0.3088803 , 0.38223937, 0.36486486, 0.2992278 ],\n",
              "       [0.19305018, 0.16216215, 0.25289574, 0.23745173, 0.25096524,\n",
              "        0.3088803 , 0.38223937, 0.36486486, 0.2992278 , 0.24131274],\n",
              "       [0.16216215, 0.25289574, 0.23745173, 0.25096524, 0.3088803 ,\n",
              "        0.38223937, 0.36486486, 0.2992278 , 0.24131274, 0.1911197 ],\n",
              "       [0.25289574, 0.23745173, 0.25096524, 0.3088803 , 0.38223937,\n",
              "        0.36486486, 0.2992278 , 0.24131274, 0.1911197 , 0.24131274],\n",
              "       [0.23745173, 0.25096524, 0.3088803 , 0.38223937, 0.36486486,\n",
              "        0.2992278 , 0.24131274, 0.1911197 , 0.24131274, 0.26640925],\n",
              "       [0.25096524, 0.3088803 , 0.38223937, 0.36486486, 0.2992278 ,\n",
              "        0.24131274, 0.1911197 , 0.24131274, 0.26640925, 0.24903473],\n",
              "       [0.3088803 , 0.38223937, 0.36486486, 0.2992278 , 0.24131274,\n",
              "        0.1911197 , 0.24131274, 0.26640925, 0.24903473, 0.31467178],\n",
              "       [0.38223937, 0.36486486, 0.2992278 , 0.24131274, 0.1911197 ,\n",
              "        0.24131274, 0.26640925, 0.24903473, 0.31467178, 0.3185328 ],\n",
              "       [0.36486486, 0.2992278 , 0.24131274, 0.1911197 , 0.24131274,\n",
              "        0.26640925, 0.24903473, 0.31467178, 0.3185328 , 0.32046333],\n",
              "       [0.2992278 , 0.24131274, 0.1911197 , 0.24131274, 0.26640925,\n",
              "        0.24903473, 0.31467178, 0.3185328 , 0.32046333, 0.4073359 ],\n",
              "       [0.24131274, 0.1911197 , 0.24131274, 0.26640925, 0.24903473,\n",
              "        0.31467178, 0.3185328 , 0.32046333, 0.4073359 , 0.5019305 ],\n",
              "       [0.1911197 , 0.24131274, 0.26640925, 0.24903473, 0.31467178,\n",
              "        0.3185328 , 0.32046333, 0.4073359 , 0.5019305 , 0.46911195],\n",
              "       [0.24131274, 0.26640925, 0.24903473, 0.31467178, 0.3185328 ,\n",
              "        0.32046333, 0.4073359 , 0.5019305 , 0.46911195, 0.40154442],\n",
              "       [0.26640925, 0.24903473, 0.31467178, 0.3185328 , 0.32046333,\n",
              "        0.4073359 , 0.5019305 , 0.46911195, 0.40154442, 0.32818535],\n",
              "       [0.24903473, 0.31467178, 0.3185328 , 0.32046333, 0.4073359 ,\n",
              "        0.5019305 , 0.46911195, 0.40154442, 0.32818535, 0.25675675],\n",
              "       [0.31467178, 0.3185328 , 0.32046333, 0.4073359 , 0.5019305 ,\n",
              "        0.46911195, 0.40154442, 0.32818535, 0.25675675, 0.3359073 ],\n",
              "       [0.3185328 , 0.32046333, 0.4073359 , 0.5019305 , 0.46911195,\n",
              "        0.40154442, 0.32818535, 0.25675675, 0.3359073 , 0.34749034],\n",
              "       [0.32046333, 0.4073359 , 0.5019305 , 0.46911195, 0.40154442,\n",
              "        0.32818535, 0.25675675, 0.3359073 , 0.34749034, 0.33397684],\n",
              "       [0.4073359 , 0.5019305 , 0.46911195, 0.40154442, 0.32818535,\n",
              "        0.25675675, 0.3359073 , 0.34749034, 0.33397684, 0.41119692],\n",
              "       [0.5019305 , 0.46911195, 0.40154442, 0.32818535, 0.25675675,\n",
              "        0.3359073 , 0.34749034, 0.33397684, 0.41119692, 0.4034749 ],\n",
              "       [0.46911195, 0.40154442, 0.32818535, 0.25675675, 0.3359073 ,\n",
              "        0.34749034, 0.33397684, 0.41119692, 0.4034749 , 0.4131274 ],\n",
              "       [0.40154442, 0.32818535, 0.25675675, 0.3359073 , 0.34749034,\n",
              "        0.33397684, 0.41119692, 0.4034749 , 0.4131274 , 0.52123547],\n",
              "       [0.32818535, 0.25675675, 0.3359073 , 0.34749034, 0.33397684,\n",
              "        0.41119692, 0.4034749 , 0.4131274 , 0.52123547, 0.5965251 ],\n",
              "       [0.25675675, 0.3359073 , 0.34749034, 0.33397684, 0.41119692,\n",
              "        0.4034749 , 0.4131274 , 0.52123547, 0.5965251 , 0.58108103],\n",
              "       [0.3359073 , 0.34749034, 0.33397684, 0.41119692, 0.4034749 ,\n",
              "        0.4131274 , 0.52123547, 0.5965251 , 0.58108103, 0.484556  ]],\n",
              "      dtype=float32)"
            ]
          },
          "metadata": {},
          "execution_count": 71
        }
      ]
    },
    {
      "cell_type": "code",
      "source": [
        "\n",
        "print('Build deep model...')\n",
        "# create and fit dense model\n",
        "model = Sequential()\n",
        "model.add(Dense(64, input_dim=seq_size, activation='relu')) #12\n",
        "#model.add(Dense(32, activation='relu'))  #8\n",
        "model.add(Dense(1))\n",
        "model.compile(loss='mean_squared_error', optimizer='adam', metrics = ['acc'])\n",
        "print(model.summary())\n",
        "\n",
        "#for layer in model.layers:\n",
        "#    print(layer.input_shape)\n",
        "\n",
        "##################################################\n",
        "#Try another model....\n",
        "print('Build simple model...')\n",
        "# create and fit dense model\n",
        "model = Sequential()\n",
        "model.add(Dense(8, input_dim=seq_size, activation='relu'))\n",
        "model.add(Dense(1))\n",
        "model.compile(loss='mean_squared_error', optimizer='adam', metrics = ['acc'])\n",
        "print(model.summary())"
      ],
      "metadata": {
        "id": "mqBN01adubgF",
        "colab": {
          "base_uri": "https://localhost:8080/",
          "height": 499
        },
        "outputId": "eb269373-94fd-4ff7-8d4d-1168433fb322"
      },
      "execution_count": 72,
      "outputs": [
        {
          "output_type": "stream",
          "name": "stdout",
          "text": [
            "Build deep model...\n"
          ]
        },
        {
          "output_type": "stream",
          "name": "stderr",
          "text": [
            "/usr/local/lib/python3.11/dist-packages/keras/src/layers/core/dense.py:87: UserWarning: Do not pass an `input_shape`/`input_dim` argument to a layer. When using Sequential models, prefer using an `Input(shape)` object as the first layer in the model instead.\n",
            "  super().__init__(activity_regularizer=activity_regularizer, **kwargs)\n"
          ]
        },
        {
          "output_type": "display_data",
          "data": {
            "text/plain": [
              "\u001b[1mModel: \"sequential_6\"\u001b[0m\n"
            ],
            "text/html": [
              "<pre style=\"white-space:pre;overflow-x:auto;line-height:normal;font-family:Menlo,'DejaVu Sans Mono',consolas,'Courier New',monospace\"><span style=\"font-weight: bold\">Model: \"sequential_6\"</span>\n",
              "</pre>\n"
            ]
          },
          "metadata": {}
        },
        {
          "output_type": "display_data",
          "data": {
            "text/plain": [
              "┏━━━━━━━━━━━━━━━━━━━━━━━━━━━━━━━━━┳━━━━━━━━━━━━━━━━━━━━━━━━┳━━━━━━━━━━━━━━━┓\n",
              "┃\u001b[1m \u001b[0m\u001b[1mLayer (type)                   \u001b[0m\u001b[1m \u001b[0m┃\u001b[1m \u001b[0m\u001b[1mOutput Shape          \u001b[0m\u001b[1m \u001b[0m┃\u001b[1m \u001b[0m\u001b[1m      Param #\u001b[0m\u001b[1m \u001b[0m┃\n",
              "┡━━━━━━━━━━━━━━━━━━━━━━━━━━━━━━━━━╇━━━━━━━━━━━━━━━━━━━━━━━━╇━━━━━━━━━━━━━━━┩\n",
              "│ dense_12 (\u001b[38;5;33mDense\u001b[0m)                │ (\u001b[38;5;45mNone\u001b[0m, \u001b[38;5;34m64\u001b[0m)             │           \u001b[38;5;34m704\u001b[0m │\n",
              "├─────────────────────────────────┼────────────────────────┼───────────────┤\n",
              "│ dense_13 (\u001b[38;5;33mDense\u001b[0m)                │ (\u001b[38;5;45mNone\u001b[0m, \u001b[38;5;34m1\u001b[0m)              │            \u001b[38;5;34m65\u001b[0m │\n",
              "└─────────────────────────────────┴────────────────────────┴───────────────┘\n"
            ],
            "text/html": [
              "<pre style=\"white-space:pre;overflow-x:auto;line-height:normal;font-family:Menlo,'DejaVu Sans Mono',consolas,'Courier New',monospace\">┏━━━━━━━━━━━━━━━━━━━━━━━━━━━━━━━━━┳━━━━━━━━━━━━━━━━━━━━━━━━┳━━━━━━━━━━━━━━━┓\n",
              "┃<span style=\"font-weight: bold\"> Layer (type)                    </span>┃<span style=\"font-weight: bold\"> Output Shape           </span>┃<span style=\"font-weight: bold\">       Param # </span>┃\n",
              "┡━━━━━━━━━━━━━━━━━━━━━━━━━━━━━━━━━╇━━━━━━━━━━━━━━━━━━━━━━━━╇━━━━━━━━━━━━━━━┩\n",
              "│ dense_12 (<span style=\"color: #0087ff; text-decoration-color: #0087ff\">Dense</span>)                │ (<span style=\"color: #00d7ff; text-decoration-color: #00d7ff\">None</span>, <span style=\"color: #00af00; text-decoration-color: #00af00\">64</span>)             │           <span style=\"color: #00af00; text-decoration-color: #00af00\">704</span> │\n",
              "├─────────────────────────────────┼────────────────────────┼───────────────┤\n",
              "│ dense_13 (<span style=\"color: #0087ff; text-decoration-color: #0087ff\">Dense</span>)                │ (<span style=\"color: #00d7ff; text-decoration-color: #00d7ff\">None</span>, <span style=\"color: #00af00; text-decoration-color: #00af00\">1</span>)              │            <span style=\"color: #00af00; text-decoration-color: #00af00\">65</span> │\n",
              "└─────────────────────────────────┴────────────────────────┴───────────────┘\n",
              "</pre>\n"
            ]
          },
          "metadata": {}
        },
        {
          "output_type": "display_data",
          "data": {
            "text/plain": [
              "\u001b[1m Total params: \u001b[0m\u001b[38;5;34m769\u001b[0m (3.00 KB)\n"
            ],
            "text/html": [
              "<pre style=\"white-space:pre;overflow-x:auto;line-height:normal;font-family:Menlo,'DejaVu Sans Mono',consolas,'Courier New',monospace\"><span style=\"font-weight: bold\"> Total params: </span><span style=\"color: #00af00; text-decoration-color: #00af00\">769</span> (3.00 KB)\n",
              "</pre>\n"
            ]
          },
          "metadata": {}
        },
        {
          "output_type": "display_data",
          "data": {
            "text/plain": [
              "\u001b[1m Trainable params: \u001b[0m\u001b[38;5;34m769\u001b[0m (3.00 KB)\n"
            ],
            "text/html": [
              "<pre style=\"white-space:pre;overflow-x:auto;line-height:normal;font-family:Menlo,'DejaVu Sans Mono',consolas,'Courier New',monospace\"><span style=\"font-weight: bold\"> Trainable params: </span><span style=\"color: #00af00; text-decoration-color: #00af00\">769</span> (3.00 KB)\n",
              "</pre>\n"
            ]
          },
          "metadata": {}
        },
        {
          "output_type": "display_data",
          "data": {
            "text/plain": [
              "\u001b[1m Non-trainable params: \u001b[0m\u001b[38;5;34m0\u001b[0m (0.00 B)\n"
            ],
            "text/html": [
              "<pre style=\"white-space:pre;overflow-x:auto;line-height:normal;font-family:Menlo,'DejaVu Sans Mono',consolas,'Courier New',monospace\"><span style=\"font-weight: bold\"> Non-trainable params: </span><span style=\"color: #00af00; text-decoration-color: #00af00\">0</span> (0.00 B)\n",
              "</pre>\n"
            ]
          },
          "metadata": {}
        },
        {
          "output_type": "stream",
          "name": "stdout",
          "text": [
            "None\n",
            "Build simple model...\n"
          ]
        },
        {
          "output_type": "display_data",
          "data": {
            "text/plain": [
              "\u001b[1mModel: \"sequential_7\"\u001b[0m\n"
            ],
            "text/html": [
              "<pre style=\"white-space:pre;overflow-x:auto;line-height:normal;font-family:Menlo,'DejaVu Sans Mono',consolas,'Courier New',monospace\"><span style=\"font-weight: bold\">Model: \"sequential_7\"</span>\n",
              "</pre>\n"
            ]
          },
          "metadata": {}
        },
        {
          "output_type": "display_data",
          "data": {
            "text/plain": [
              "┏━━━━━━━━━━━━━━━━━━━━━━━━━━━━━━━━━┳━━━━━━━━━━━━━━━━━━━━━━━━┳━━━━━━━━━━━━━━━┓\n",
              "┃\u001b[1m \u001b[0m\u001b[1mLayer (type)                   \u001b[0m\u001b[1m \u001b[0m┃\u001b[1m \u001b[0m\u001b[1mOutput Shape          \u001b[0m\u001b[1m \u001b[0m┃\u001b[1m \u001b[0m\u001b[1m      Param #\u001b[0m\u001b[1m \u001b[0m┃\n",
              "┡━━━━━━━━━━━━━━━━━━━━━━━━━━━━━━━━━╇━━━━━━━━━━━━━━━━━━━━━━━━╇━━━━━━━━━━━━━━━┩\n",
              "│ dense_14 (\u001b[38;5;33mDense\u001b[0m)                │ (\u001b[38;5;45mNone\u001b[0m, \u001b[38;5;34m8\u001b[0m)              │            \u001b[38;5;34m88\u001b[0m │\n",
              "├─────────────────────────────────┼────────────────────────┼───────────────┤\n",
              "│ dense_15 (\u001b[38;5;33mDense\u001b[0m)                │ (\u001b[38;5;45mNone\u001b[0m, \u001b[38;5;34m1\u001b[0m)              │             \u001b[38;5;34m9\u001b[0m │\n",
              "└─────────────────────────────────┴────────────────────────┴───────────────┘\n"
            ],
            "text/html": [
              "<pre style=\"white-space:pre;overflow-x:auto;line-height:normal;font-family:Menlo,'DejaVu Sans Mono',consolas,'Courier New',monospace\">┏━━━━━━━━━━━━━━━━━━━━━━━━━━━━━━━━━┳━━━━━━━━━━━━━━━━━━━━━━━━┳━━━━━━━━━━━━━━━┓\n",
              "┃<span style=\"font-weight: bold\"> Layer (type)                    </span>┃<span style=\"font-weight: bold\"> Output Shape           </span>┃<span style=\"font-weight: bold\">       Param # </span>┃\n",
              "┡━━━━━━━━━━━━━━━━━━━━━━━━━━━━━━━━━╇━━━━━━━━━━━━━━━━━━━━━━━━╇━━━━━━━━━━━━━━━┩\n",
              "│ dense_14 (<span style=\"color: #0087ff; text-decoration-color: #0087ff\">Dense</span>)                │ (<span style=\"color: #00d7ff; text-decoration-color: #00d7ff\">None</span>, <span style=\"color: #00af00; text-decoration-color: #00af00\">8</span>)              │            <span style=\"color: #00af00; text-decoration-color: #00af00\">88</span> │\n",
              "├─────────────────────────────────┼────────────────────────┼───────────────┤\n",
              "│ dense_15 (<span style=\"color: #0087ff; text-decoration-color: #0087ff\">Dense</span>)                │ (<span style=\"color: #00d7ff; text-decoration-color: #00d7ff\">None</span>, <span style=\"color: #00af00; text-decoration-color: #00af00\">1</span>)              │             <span style=\"color: #00af00; text-decoration-color: #00af00\">9</span> │\n",
              "└─────────────────────────────────┴────────────────────────┴───────────────┘\n",
              "</pre>\n"
            ]
          },
          "metadata": {}
        },
        {
          "output_type": "display_data",
          "data": {
            "text/plain": [
              "\u001b[1m Total params: \u001b[0m\u001b[38;5;34m97\u001b[0m (388.00 B)\n"
            ],
            "text/html": [
              "<pre style=\"white-space:pre;overflow-x:auto;line-height:normal;font-family:Menlo,'DejaVu Sans Mono',consolas,'Courier New',monospace\"><span style=\"font-weight: bold\"> Total params: </span><span style=\"color: #00af00; text-decoration-color: #00af00\">97</span> (388.00 B)\n",
              "</pre>\n"
            ]
          },
          "metadata": {}
        },
        {
          "output_type": "display_data",
          "data": {
            "text/plain": [
              "\u001b[1m Trainable params: \u001b[0m\u001b[38;5;34m97\u001b[0m (388.00 B)\n"
            ],
            "text/html": [
              "<pre style=\"white-space:pre;overflow-x:auto;line-height:normal;font-family:Menlo,'DejaVu Sans Mono',consolas,'Courier New',monospace\"><span style=\"font-weight: bold\"> Trainable params: </span><span style=\"color: #00af00; text-decoration-color: #00af00\">97</span> (388.00 B)\n",
              "</pre>\n"
            ]
          },
          "metadata": {}
        },
        {
          "output_type": "display_data",
          "data": {
            "text/plain": [
              "\u001b[1m Non-trainable params: \u001b[0m\u001b[38;5;34m0\u001b[0m (0.00 B)\n"
            ],
            "text/html": [
              "<pre style=\"white-space:pre;overflow-x:auto;line-height:normal;font-family:Menlo,'DejaVu Sans Mono',consolas,'Courier New',monospace\"><span style=\"font-weight: bold\"> Non-trainable params: </span><span style=\"color: #00af00; text-decoration-color: #00af00\">0</span> (0.00 B)\n",
              "</pre>\n"
            ]
          },
          "metadata": {}
        },
        {
          "output_type": "stream",
          "name": "stdout",
          "text": [
            "None\n"
          ]
        }
      ]
    },
    {
      "cell_type": "code",
      "source": [
        "#Train the model\n",
        "#model.fit(trainX, trainY, epochs=200, batch_size=2, verbose=2)\n",
        "\n",
        "model.fit(trainX, trainY, validation_data=(testX, testY),\n",
        "          verbose=2, epochs=100)\n"
      ],
      "metadata": {
        "id": "0h3TZNHguiE3",
        "colab": {
          "base_uri": "https://localhost:8080/",
          "height": 0
        },
        "outputId": "0c30e874-5267-4978-e499-2c8dc2404064"
      },
      "execution_count": 73,
      "outputs": [
        {
          "output_type": "stream",
          "name": "stdout",
          "text": [
            "Epoch 1/100\n",
            "3/3 - 1s - 362ms/step - acc: 0.0119 - loss: 0.2049 - val_acc: 0.0000e+00 - val_loss: 1.2849\n",
            "Epoch 2/100\n",
            "3/3 - 0s - 33ms/step - acc: 0.0119 - loss: 0.1919 - val_acc: 0.0000e+00 - val_loss: 1.2154\n",
            "Epoch 3/100\n",
            "3/3 - 0s - 45ms/step - acc: 0.0119 - loss: 0.1781 - val_acc: 0.0000e+00 - val_loss: 1.1436\n",
            "Epoch 4/100\n",
            "3/3 - 0s - 70ms/step - acc: 0.0119 - loss: 0.1655 - val_acc: 0.0000e+00 - val_loss: 1.0705\n",
            "Epoch 5/100\n",
            "3/3 - 0s - 83ms/step - acc: 0.0119 - loss: 0.1517 - val_acc: 0.0000e+00 - val_loss: 0.9981\n",
            "Epoch 6/100\n",
            "3/3 - 0s - 49ms/step - acc: 0.0119 - loss: 0.1391 - val_acc: 0.0000e+00 - val_loss: 0.9268\n",
            "Epoch 7/100\n",
            "3/3 - 0s - 55ms/step - acc: 0.0119 - loss: 0.1263 - val_acc: 0.0000e+00 - val_loss: 0.8581\n",
            "Epoch 8/100\n",
            "3/3 - 0s - 43ms/step - acc: 0.0119 - loss: 0.1140 - val_acc: 0.0000e+00 - val_loss: 0.7921\n",
            "Epoch 9/100\n",
            "3/3 - 0s - 55ms/step - acc: 0.0119 - loss: 0.1029 - val_acc: 0.0000e+00 - val_loss: 0.7280\n",
            "Epoch 10/100\n",
            "3/3 - 0s - 64ms/step - acc: 0.0119 - loss: 0.0923 - val_acc: 0.0000e+00 - val_loss: 0.6667\n",
            "Epoch 11/100\n",
            "3/3 - 0s - 51ms/step - acc: 0.0119 - loss: 0.0816 - val_acc: 0.0000e+00 - val_loss: 0.6091\n",
            "Epoch 12/100\n",
            "3/3 - 0s - 91ms/step - acc: 0.0119 - loss: 0.0716 - val_acc: 0.0000e+00 - val_loss: 0.5547\n",
            "Epoch 13/100\n",
            "3/3 - 0s - 108ms/step - acc: 0.0119 - loss: 0.0629 - val_acc: 0.0000e+00 - val_loss: 0.5020\n",
            "Epoch 14/100\n",
            "3/3 - 0s - 78ms/step - acc: 0.0119 - loss: 0.0545 - val_acc: 0.0000e+00 - val_loss: 0.4513\n",
            "Epoch 15/100\n",
            "3/3 - 0s - 46ms/step - acc: 0.0119 - loss: 0.0468 - val_acc: 0.0000e+00 - val_loss: 0.4039\n",
            "Epoch 16/100\n",
            "3/3 - 0s - 29ms/step - acc: 0.0119 - loss: 0.0396 - val_acc: 0.0000e+00 - val_loss: 0.3594\n",
            "Epoch 17/100\n",
            "3/3 - 0s - 60ms/step - acc: 0.0119 - loss: 0.0331 - val_acc: 0.0000e+00 - val_loss: 0.3162\n",
            "Epoch 18/100\n",
            "3/3 - 0s - 32ms/step - acc: 0.0119 - loss: 0.0274 - val_acc: 0.0000e+00 - val_loss: 0.2743\n",
            "Epoch 19/100\n",
            "3/3 - 0s - 30ms/step - acc: 0.0119 - loss: 0.0227 - val_acc: 0.0000e+00 - val_loss: 0.2361\n",
            "Epoch 20/100\n",
            "3/3 - 0s - 45ms/step - acc: 0.0119 - loss: 0.0190 - val_acc: 0.0000e+00 - val_loss: 0.2019\n",
            "Epoch 21/100\n",
            "3/3 - 0s - 45ms/step - acc: 0.0119 - loss: 0.0162 - val_acc: 0.0000e+00 - val_loss: 0.1732\n",
            "Epoch 22/100\n",
            "3/3 - 0s - 97ms/step - acc: 0.0119 - loss: 0.0141 - val_acc: 0.0000e+00 - val_loss: 0.1495\n",
            "Epoch 23/100\n",
            "3/3 - 0s - 67ms/step - acc: 0.0119 - loss: 0.0124 - val_acc: 0.0000e+00 - val_loss: 0.1304\n",
            "Epoch 24/100\n",
            "3/3 - 0s - 28ms/step - acc: 0.0119 - loss: 0.0117 - val_acc: 0.0000e+00 - val_loss: 0.1146\n",
            "Epoch 25/100\n",
            "3/3 - 0s - 47ms/step - acc: 0.0119 - loss: 0.0111 - val_acc: 0.0263 - val_loss: 0.1027\n",
            "Epoch 26/100\n",
            "3/3 - 0s - 32ms/step - acc: 0.0119 - loss: 0.0108 - val_acc: 0.0263 - val_loss: 0.0935\n",
            "Epoch 27/100\n",
            "3/3 - 0s - 109ms/step - acc: 0.0119 - loss: 0.0107 - val_acc: 0.0263 - val_loss: 0.0869\n",
            "Epoch 28/100\n",
            "3/3 - 0s - 32ms/step - acc: 0.0119 - loss: 0.0106 - val_acc: 0.0263 - val_loss: 0.0819\n",
            "Epoch 29/100\n",
            "3/3 - 0s - 29ms/step - acc: 0.0119 - loss: 0.0105 - val_acc: 0.0263 - val_loss: 0.0788\n",
            "Epoch 30/100\n",
            "3/3 - 0s - 30ms/step - acc: 0.0119 - loss: 0.0104 - val_acc: 0.0263 - val_loss: 0.0770\n",
            "Epoch 31/100\n",
            "3/3 - 0s - 44ms/step - acc: 0.0119 - loss: 0.0102 - val_acc: 0.0263 - val_loss: 0.0763\n",
            "Epoch 32/100\n",
            "3/3 - 0s - 82ms/step - acc: 0.0119 - loss: 0.0100 - val_acc: 0.0263 - val_loss: 0.0761\n",
            "Epoch 33/100\n",
            "3/3 - 0s - 31ms/step - acc: 0.0119 - loss: 0.0098 - val_acc: 0.0263 - val_loss: 0.0761\n",
            "Epoch 34/100\n",
            "3/3 - 0s - 60ms/step - acc: 0.0119 - loss: 0.0096 - val_acc: 0.0263 - val_loss: 0.0762\n",
            "Epoch 35/100\n",
            "3/3 - 0s - 31ms/step - acc: 0.0119 - loss: 0.0095 - val_acc: 0.0263 - val_loss: 0.0765\n",
            "Epoch 36/100\n",
            "3/3 - 0s - 43ms/step - acc: 0.0119 - loss: 0.0093 - val_acc: 0.0263 - val_loss: 0.0769\n",
            "Epoch 37/100\n",
            "3/3 - 0s - 47ms/step - acc: 0.0119 - loss: 0.0091 - val_acc: 0.0263 - val_loss: 0.0772\n",
            "Epoch 38/100\n",
            "3/3 - 0s - 32ms/step - acc: 0.0119 - loss: 0.0090 - val_acc: 0.0263 - val_loss: 0.0774\n",
            "Epoch 39/100\n",
            "3/3 - 0s - 31ms/step - acc: 0.0119 - loss: 0.0088 - val_acc: 0.0263 - val_loss: 0.0772\n",
            "Epoch 40/100\n",
            "3/3 - 0s - 45ms/step - acc: 0.0119 - loss: 0.0087 - val_acc: 0.0263 - val_loss: 0.0768\n",
            "Epoch 41/100\n",
            "3/3 - 0s - 47ms/step - acc: 0.0119 - loss: 0.0086 - val_acc: 0.0263 - val_loss: 0.0764\n",
            "Epoch 42/100\n",
            "3/3 - 0s - 61ms/step - acc: 0.0119 - loss: 0.0084 - val_acc: 0.0263 - val_loss: 0.0753\n",
            "Epoch 43/100\n",
            "3/3 - 0s - 29ms/step - acc: 0.0119 - loss: 0.0083 - val_acc: 0.0263 - val_loss: 0.0740\n",
            "Epoch 44/100\n",
            "3/3 - 0s - 46ms/step - acc: 0.0119 - loss: 0.0082 - val_acc: 0.0263 - val_loss: 0.0723\n",
            "Epoch 45/100\n",
            "3/3 - 0s - 46ms/step - acc: 0.0119 - loss: 0.0081 - val_acc: 0.0263 - val_loss: 0.0709\n",
            "Epoch 46/100\n",
            "3/3 - 0s - 60ms/step - acc: 0.0119 - loss: 0.0079 - val_acc: 0.0263 - val_loss: 0.0695\n",
            "Epoch 47/100\n",
            "3/3 - 0s - 32ms/step - acc: 0.0119 - loss: 0.0078 - val_acc: 0.0263 - val_loss: 0.0677\n",
            "Epoch 48/100\n",
            "3/3 - 0s - 47ms/step - acc: 0.0119 - loss: 0.0077 - val_acc: 0.0263 - val_loss: 0.0660\n",
            "Epoch 49/100\n",
            "3/3 - 0s - 46ms/step - acc: 0.0119 - loss: 0.0075 - val_acc: 0.0263 - val_loss: 0.0645\n",
            "Epoch 50/100\n",
            "3/3 - 0s - 38ms/step - acc: 0.0119 - loss: 0.0074 - val_acc: 0.0263 - val_loss: 0.0632\n",
            "Epoch 51/100\n",
            "3/3 - 0s - 31ms/step - acc: 0.0119 - loss: 0.0073 - val_acc: 0.0263 - val_loss: 0.0618\n",
            "Epoch 52/100\n",
            "3/3 - 0s - 46ms/step - acc: 0.0119 - loss: 0.0072 - val_acc: 0.0263 - val_loss: 0.0606\n",
            "Epoch 53/100\n",
            "3/3 - 0s - 44ms/step - acc: 0.0119 - loss: 0.0071 - val_acc: 0.0263 - val_loss: 0.0595\n",
            "Epoch 54/100\n",
            "3/3 - 0s - 47ms/step - acc: 0.0119 - loss: 0.0070 - val_acc: 0.0263 - val_loss: 0.0583\n",
            "Epoch 55/100\n",
            "3/3 - 0s - 46ms/step - acc: 0.0119 - loss: 0.0069 - val_acc: 0.0263 - val_loss: 0.0571\n",
            "Epoch 56/100\n",
            "3/3 - 0s - 30ms/step - acc: 0.0119 - loss: 0.0067 - val_acc: 0.0263 - val_loss: 0.0561\n",
            "Epoch 57/100\n",
            "3/3 - 0s - 29ms/step - acc: 0.0119 - loss: 0.0066 - val_acc: 0.0263 - val_loss: 0.0548\n",
            "Epoch 58/100\n",
            "3/3 - 0s - 35ms/step - acc: 0.0119 - loss: 0.0065 - val_acc: 0.0263 - val_loss: 0.0537\n",
            "Epoch 59/100\n",
            "3/3 - 0s - 40ms/step - acc: 0.0119 - loss: 0.0064 - val_acc: 0.0263 - val_loss: 0.0526\n",
            "Epoch 60/100\n",
            "3/3 - 0s - 46ms/step - acc: 0.0119 - loss: 0.0063 - val_acc: 0.0263 - val_loss: 0.0517\n",
            "Epoch 61/100\n",
            "3/3 - 0s - 69ms/step - acc: 0.0119 - loss: 0.0062 - val_acc: 0.0263 - val_loss: 0.0505\n",
            "Epoch 62/100\n",
            "3/3 - 0s - 126ms/step - acc: 0.0119 - loss: 0.0061 - val_acc: 0.0263 - val_loss: 0.0496\n",
            "Epoch 63/100\n",
            "3/3 - 0s - 94ms/step - acc: 0.0119 - loss: 0.0061 - val_acc: 0.0263 - val_loss: 0.0488\n",
            "Epoch 64/100\n",
            "3/3 - 0s - 121ms/step - acc: 0.0119 - loss: 0.0059 - val_acc: 0.0263 - val_loss: 0.0478\n",
            "Epoch 65/100\n",
            "3/3 - 1s - 184ms/step - acc: 0.0119 - loss: 0.0059 - val_acc: 0.0263 - val_loss: 0.0467\n",
            "Epoch 66/100\n",
            "3/3 - 0s - 106ms/step - acc: 0.0119 - loss: 0.0058 - val_acc: 0.0263 - val_loss: 0.0460\n",
            "Epoch 67/100\n",
            "3/3 - 0s - 94ms/step - acc: 0.0119 - loss: 0.0057 - val_acc: 0.0263 - val_loss: 0.0452\n",
            "Epoch 68/100\n",
            "3/3 - 0s - 43ms/step - acc: 0.0119 - loss: 0.0056 - val_acc: 0.0263 - val_loss: 0.0444\n",
            "Epoch 69/100\n",
            "3/3 - 0s - 46ms/step - acc: 0.0119 - loss: 0.0055 - val_acc: 0.0263 - val_loss: 0.0438\n",
            "Epoch 70/100\n",
            "3/3 - 0s - 42ms/step - acc: 0.0119 - loss: 0.0054 - val_acc: 0.0263 - val_loss: 0.0433\n",
            "Epoch 71/100\n",
            "3/3 - 0s - 28ms/step - acc: 0.0119 - loss: 0.0053 - val_acc: 0.0263 - val_loss: 0.0425\n",
            "Epoch 72/100\n",
            "3/3 - 0s - 47ms/step - acc: 0.0119 - loss: 0.0053 - val_acc: 0.0263 - val_loss: 0.0415\n",
            "Epoch 73/100\n",
            "3/3 - 0s - 29ms/step - acc: 0.0119 - loss: 0.0052 - val_acc: 0.0263 - val_loss: 0.0408\n",
            "Epoch 74/100\n",
            "3/3 - 0s - 28ms/step - acc: 0.0119 - loss: 0.0051 - val_acc: 0.0263 - val_loss: 0.0400\n",
            "Epoch 75/100\n",
            "3/3 - 0s - 49ms/step - acc: 0.0119 - loss: 0.0050 - val_acc: 0.0263 - val_loss: 0.0392\n",
            "Epoch 76/100\n",
            "3/3 - 0s - 57ms/step - acc: 0.0119 - loss: 0.0049 - val_acc: 0.0263 - val_loss: 0.0383\n",
            "Epoch 77/100\n",
            "3/3 - 0s - 53ms/step - acc: 0.0119 - loss: 0.0049 - val_acc: 0.0263 - val_loss: 0.0377\n",
            "Epoch 78/100\n",
            "3/3 - 0s - 57ms/step - acc: 0.0119 - loss: 0.0048 - val_acc: 0.0263 - val_loss: 0.0370\n",
            "Epoch 79/100\n",
            "3/3 - 0s - 52ms/step - acc: 0.0119 - loss: 0.0047 - val_acc: 0.0263 - val_loss: 0.0364\n",
            "Epoch 80/100\n",
            "3/3 - 0s - 89ms/step - acc: 0.0119 - loss: 0.0047 - val_acc: 0.0263 - val_loss: 0.0359\n",
            "Epoch 81/100\n",
            "3/3 - 0s - 54ms/step - acc: 0.0119 - loss: 0.0046 - val_acc: 0.0263 - val_loss: 0.0354\n",
            "Epoch 82/100\n",
            "3/3 - 0s - 41ms/step - acc: 0.0119 - loss: 0.0045 - val_acc: 0.0263 - val_loss: 0.0349\n",
            "Epoch 83/100\n",
            "3/3 - 0s - 46ms/step - acc: 0.0119 - loss: 0.0045 - val_acc: 0.0263 - val_loss: 0.0343\n",
            "Epoch 84/100\n",
            "3/3 - 0s - 50ms/step - acc: 0.0119 - loss: 0.0044 - val_acc: 0.0263 - val_loss: 0.0338\n",
            "Epoch 85/100\n",
            "3/3 - 0s - 108ms/step - acc: 0.0119 - loss: 0.0044 - val_acc: 0.0263 - val_loss: 0.0333\n",
            "Epoch 86/100\n",
            "3/3 - 0s - 47ms/step - acc: 0.0119 - loss: 0.0043 - val_acc: 0.0263 - val_loss: 0.0328\n",
            "Epoch 87/100\n",
            "3/3 - 0s - 48ms/step - acc: 0.0119 - loss: 0.0042 - val_acc: 0.0263 - val_loss: 0.0323\n",
            "Epoch 88/100\n",
            "3/3 - 0s - 32ms/step - acc: 0.0119 - loss: 0.0042 - val_acc: 0.0263 - val_loss: 0.0317\n",
            "Epoch 89/100\n",
            "3/3 - 0s - 46ms/step - acc: 0.0119 - loss: 0.0041 - val_acc: 0.0263 - val_loss: 0.0311\n",
            "Epoch 90/100\n",
            "3/3 - 0s - 31ms/step - acc: 0.0119 - loss: 0.0041 - val_acc: 0.0263 - val_loss: 0.0305\n",
            "Epoch 91/100\n",
            "3/3 - 0s - 44ms/step - acc: 0.0119 - loss: 0.0040 - val_acc: 0.0263 - val_loss: 0.0299\n",
            "Epoch 92/100\n",
            "3/3 - 0s - 30ms/step - acc: 0.0119 - loss: 0.0040 - val_acc: 0.0263 - val_loss: 0.0293\n",
            "Epoch 93/100\n",
            "3/3 - 0s - 30ms/step - acc: 0.0119 - loss: 0.0039 - val_acc: 0.0263 - val_loss: 0.0288\n",
            "Epoch 94/100\n",
            "3/3 - 0s - 31ms/step - acc: 0.0119 - loss: 0.0039 - val_acc: 0.0263 - val_loss: 0.0283\n",
            "Epoch 95/100\n",
            "3/3 - 0s - 46ms/step - acc: 0.0119 - loss: 0.0038 - val_acc: 0.0263 - val_loss: 0.0281\n",
            "Epoch 96/100\n",
            "3/3 - 0s - 28ms/step - acc: 0.0119 - loss: 0.0038 - val_acc: 0.0263 - val_loss: 0.0277\n",
            "Epoch 97/100\n",
            "3/3 - 0s - 29ms/step - acc: 0.0119 - loss: 0.0038 - val_acc: 0.0263 - val_loss: 0.0272\n",
            "Epoch 98/100\n",
            "3/3 - 0s - 47ms/step - acc: 0.0119 - loss: 0.0037 - val_acc: 0.0263 - val_loss: 0.0268\n",
            "Epoch 99/100\n",
            "3/3 - 0s - 30ms/step - acc: 0.0119 - loss: 0.0037 - val_acc: 0.0263 - val_loss: 0.0264\n",
            "Epoch 100/100\n",
            "3/3 - 0s - 46ms/step - acc: 0.0119 - loss: 0.0036 - val_acc: 0.0263 - val_loss: 0.0259\n"
          ]
        },
        {
          "output_type": "execute_result",
          "data": {
            "text/plain": [
              "<keras.src.callbacks.history.History at 0x7be94d2bcbd0>"
            ]
          },
          "metadata": {},
          "execution_count": 73
        }
      ]
    },
    {
      "cell_type": "code",
      "source": [
        "# make predictions\n",
        "\n",
        "trainPredict = model.predict(trainX)\n",
        "testPredict = model.predict(testX)\n",
        "\n",
        "# Estimate model performance\n",
        "#SInce we used minmaxscaler we can now use scaler.inverse_transform\n",
        "#to invert the transformation.\n",
        "\n",
        "trainPredict = scaler.inverse_transform(trainPredict)\n",
        "trainY_inverse = scaler.inverse_transform([trainY])\n",
        "testPredict = scaler.inverse_transform(testPredict)\n",
        "testY_inverse = scaler.inverse_transform([testY])\n",
        "\n",
        "# calculate root mean squared error\n",
        "trainScore = math.sqrt(mean_squared_error(trainY_inverse[0], trainPredict[:,0]))\n",
        "print('Train Score: %.2f RMSE' % (trainScore))"
      ],
      "metadata": {
        "id": "nch9b9B3u8wn",
        "colab": {
          "base_uri": "https://localhost:8080/",
          "height": 0
        },
        "outputId": "a8221837-f332-447c-b744-59a643aeac7b"
      },
      "execution_count": 74,
      "outputs": [
        {
          "output_type": "stream",
          "name": "stderr",
          "text": [
            "WARNING:tensorflow:5 out of the last 11 calls to <function TensorFlowTrainer.make_predict_function.<locals>.one_step_on_data_distributed at 0x7be93fb26d40> triggered tf.function retracing. Tracing is expensive and the excessive number of tracings could be due to (1) creating @tf.function repeatedly in a loop, (2) passing tensors with different shapes, (3) passing Python objects instead of tensors. For (1), please define your @tf.function outside of the loop. For (2), @tf.function has reduce_retracing=True option that can avoid unnecessary retracing. For (3), please refer to https://www.tensorflow.org/guide/function#controlling_retracing and https://www.tensorflow.org/api_docs/python/tf/function for  more details.\n"
          ]
        },
        {
          "output_type": "stream",
          "name": "stdout",
          "text": [
            "\r\u001b[1m1/3\u001b[0m \u001b[32m━━━━━━\u001b[0m\u001b[37m━━━━━━━━━━━━━━\u001b[0m \u001b[1m0s\u001b[0m 42ms/step"
          ]
        },
        {
          "output_type": "stream",
          "name": "stderr",
          "text": [
            "WARNING:tensorflow:5 out of the last 11 calls to <function TensorFlowTrainer.make_predict_function.<locals>.one_step_on_data_distributed at 0x7be93fb26d40> triggered tf.function retracing. Tracing is expensive and the excessive number of tracings could be due to (1) creating @tf.function repeatedly in a loop, (2) passing tensors with different shapes, (3) passing Python objects instead of tensors. For (1), please define your @tf.function outside of the loop. For (2), @tf.function has reduce_retracing=True option that can avoid unnecessary retracing. For (3), please refer to https://www.tensorflow.org/guide/function#controlling_retracing and https://www.tensorflow.org/api_docs/python/tf/function for  more details.\n"
          ]
        },
        {
          "output_type": "stream",
          "name": "stdout",
          "text": [
            "\u001b[1m3/3\u001b[0m \u001b[32m━━━━━━━━━━━━━━━━━━━━\u001b[0m\u001b[37m\u001b[0m \u001b[1m0s\u001b[0m 25ms/step\n",
            "\u001b[1m2/2\u001b[0m \u001b[32m━━━━━━━━━━━━━━━━━━━━\u001b[0m\u001b[37m\u001b[0m \u001b[1m0s\u001b[0m 19ms/step\n",
            "Train Score: 31.12 RMSE\n"
          ]
        }
      ]
    },
    {
      "cell_type": "code",
      "source": [
        "testScore = math.sqrt(mean_squared_error(testY_inverse[0], testPredict[:,0]))\n",
        "print('Test Score: %.2f RMSE' % (testScore))"
      ],
      "metadata": {
        "id": "zjV7J2vAu90Q",
        "colab": {
          "base_uri": "https://localhost:8080/",
          "height": 0
        },
        "outputId": "d2c7d564-fcec-4921-b7cd-ea79d78d3d53"
      },
      "execution_count": 75,
      "outputs": [
        {
          "output_type": "stream",
          "name": "stdout",
          "text": [
            "Test Score: 83.41 RMSE\n"
          ]
        }
      ]
    },
    {
      "cell_type": "code",
      "source": [
        "# shift train predictions for plotting\n",
        "#we must shift the predictions so that they align on the x-axis with the original dataset.\n",
        "trainPredictPlot = np.empty_like(dataset)\n",
        "trainPredictPlot[:, :] = np.nan\n",
        "trainPredictPlot[seq_size:len(trainPredict)+seq_size, :] = trainPredict\n",
        "\n",
        "# shift test predictions for plotting\n",
        "testPredictPlot = np.empty_like(dataset)\n",
        "testPredictPlot[:, :] = np.nan\n",
        "testPredictPlot[len(trainPredict)+(seq_size*2)+1:len(dataset)-1, :] = testPredict\n",
        "\n",
        "# plot baseline and predictions\n",
        "plt.plot(scaler.inverse_transform(dataset))\n",
        "plt.plot(trainPredictPlot)\n",
        "plt.plot(testPredictPlot)\n",
        "plt.show()"
      ],
      "metadata": {
        "id": "kHuZYMQpvEEO",
        "colab": {
          "base_uri": "https://localhost:8080/",
          "height": 430
        },
        "outputId": "b958588c-7e7f-4662-d5c9-edfe37f7e590"
      },
      "execution_count": 76,
      "outputs": [
        {
          "output_type": "display_data",
          "data": {
            "text/plain": [
              "<Figure size 640x480 with 1 Axes>"
            ],
            "image/png": "[encoded data removed]"
          },
          "metadata": {}
        }
      ]
    },
    {
      "cell_type": "markdown",
      "source": [
        "#**Time-Series Forcasting Using Long Short Term Memory (LSTM)**"
      ],
      "metadata": {
        "id": "5blikfhpwwal"
      }
    },
    {
      "cell_type": "code",
      "source": [
        "import numpy as np\n",
        "import matplotlib.pyplot as plt\n",
        "from pandas import read_csv\n",
        "import math\n",
        "\n",
        "from keras.models import Sequential\n",
        "from keras.layers import Dense\n",
        "from keras.layers import LSTM, Flatten\n",
        "from sklearn.preprocessing import MinMaxScaler\n",
        "from sklearn.metrics import mean_squared_error\n",
        "#from keras.callbacks import EarlyStopping\n",
        "from keras.layers import ConvLSTM2D"
      ],
      "metadata": {
        "id": "f0DElRbhxOWO"
      },
      "execution_count": 77,
      "outputs": []
    },
    {
      "cell_type": "code",
      "source": [
        "# load the dataset\n",
        "dataframe = read_csv('AirPassengers.csv', usecols=[1])"
      ],
      "metadata": {
        "id": "ejRh4GVyxS9f"
      },
      "execution_count": 78,
      "outputs": []
    },
    {
      "cell_type": "code",
      "source": [
        "#Convert pandas dataframe to numpy array\n",
        "dataset = dataframe.values\n",
        "dataset = dataset.astype('float32') #COnvert values to float"
      ],
      "metadata": {
        "id": "6f76n7XhxXV3"
      },
      "execution_count": 79,
      "outputs": []
    },
    {
      "cell_type": "code",
      "source": [
        "#LSTM uses sigmoid and tanh that are sensitive to magnitude so values need to be normalized\n",
        "# normalize the dataset\n",
        "scaler = MinMaxScaler(feature_range=(0, 1)) #Also try QuantileTransformer\n",
        "dataset = scaler.fit_transform(dataset)"
      ],
      "metadata": {
        "id": "Z1OSZhp1xb73"
      },
      "execution_count": 80,
      "outputs": []
    },
    {
      "cell_type": "code",
      "source": [
        "#We cannot use random way of splitting dataset into train and test as\n",
        "#the sequence of events is important for time series.\n",
        "#So let us take first 60% values for train and the remaining 1/3 for testing\n",
        "# split into train and test sets\n",
        "train_size = int(len(dataset) * 0.66)\n",
        "test_size = len(dataset) - train_size\n",
        "train, test = dataset[0:train_size,:], dataset[train_size:len(dataset),:]"
      ],
      "metadata": {
        "id": "HcsLGnfjxgrq"
      },
      "execution_count": 81,
      "outputs": []
    },
    {
      "cell_type": "code",
      "source": [
        "#creates a dataset where X is the number of passengers at a given time (t, t-1, t-2...)\n",
        "#and Y is the number of passengers at the next time (t + 1).\n",
        "\n",
        "def to_sequences(dataset, seq_size=1):\n",
        "    x = []\n",
        "    y = []\n",
        "\n",
        "    for i in range(len(dataset)-seq_size-1):\n",
        "        #print(i)\n",
        "        window = dataset[i:(i+seq_size), 0]\n",
        "        x.append(window)\n",
        "        y.append(dataset[i+seq_size, 0])\n",
        "\n",
        "    return np.array(x),np.array(y)\n",
        "\n",
        "\n",
        "seq_size = 10  # Number of time steps to look back\n",
        "#Larger sequences (look further back) may improve forecasting.\n",
        "\n",
        "trainX, trainY = to_sequences(train, seq_size)\n",
        "testX, testY = to_sequences(test, seq_size)"
      ],
      "metadata": {
        "id": "riQe5qL4xlCS"
      },
      "execution_count": 82,
      "outputs": []
    },
    {
      "cell_type": "code",
      "source": [
        "# Reshape input to be [samples, time steps, features]\n",
        "trainX = np.reshape(trainX, (trainX.shape[0], 1, trainX.shape[1]))\n",
        "testX = np.reshape(testX, (testX.shape[0], 1, testX.shape[1]))\n",
        "\n",
        "# LSTM with 1 hidden dense layer\n",
        "print('Single LSTM with hidden Dense...')\n",
        "model = Sequential()\n",
        "model.add(LSTM(64, input_shape=(None, seq_size)))\n",
        "model.add(Dense(32))\n",
        "model.add(Dense(1))\n",
        "model.compile(loss='mean_squared_error', optimizer='adam')\n",
        "##monitor = EarlyStopping(monitor='val_loss', min_delta=1e-3, patience=20,\n",
        "##                        verbose=1, mode='auto', restore_best_weights=True)\n",
        "model.summary()"
      ],
      "metadata": {
        "id": "5q1w_ygGxsnR",
        "colab": {
          "base_uri": "https://localhost:8080/",
          "height": 280
        },
        "outputId": "3f94e907-3eb7-4c5e-8906-f522aaa6bc44"
      },
      "execution_count": 83,
      "outputs": [
        {
          "output_type": "stream",
          "name": "stdout",
          "text": [
            "Single LSTM with hidden Dense...\n"
          ]
        },
        {
          "output_type": "stream",
          "name": "stderr",
          "text": [
            "/usr/local/lib/python3.11/dist-packages/keras/src/layers/rnn/rnn.py:200: UserWarning: Do not pass an `input_shape`/`input_dim` argument to a layer. When using Sequential models, prefer using an `Input(shape)` object as the first layer in the model instead.\n",
            "  super().__init__(**kwargs)\n"
          ]
        },
        {
          "output_type": "display_data",
          "data": {
            "text/plain": [
              "\u001b[1mModel: \"sequential_8\"\u001b[0m\n"
            ],
            "text/html": [
              "<pre style=\"white-space:pre;overflow-x:auto;line-height:normal;font-family:Menlo,'DejaVu Sans Mono',consolas,'Courier New',monospace\"><span style=\"font-weight: bold\">Model: \"sequential_8\"</span>\n",
              "</pre>\n"
            ]
          },
          "metadata": {}
        },
        {
          "output_type": "display_data",
          "data": {
            "text/plain": [
              "┏━━━━━━━━━━━━━━━━━━━━━━━━━━━━━━━━━┳━━━━━━━━━━━━━━━━━━━━━━━━┳━━━━━━━━━━━━━━━┓\n",
              "┃\u001b[1m \u001b[0m\u001b[1mLayer (type)                   \u001b[0m\u001b[1m \u001b[0m┃\u001b[1m \u001b[0m\u001b[1mOutput Shape          \u001b[0m\u001b[1m \u001b[0m┃\u001b[1m \u001b[0m\u001b[1m      Param #\u001b[0m\u001b[1m \u001b[0m┃\n",
              "┡━━━━━━━━━━━━━━━━━━━━━━━━━━━━━━━━━╇━━━━━━━━━━━━━━━━━━━━━━━━╇━━━━━━━━━━━━━━━┩\n",
              "│ lstm_3 (\u001b[38;5;33mLSTM\u001b[0m)                   │ (\u001b[38;5;45mNone\u001b[0m, \u001b[38;5;34m64\u001b[0m)             │        \u001b[38;5;34m19,200\u001b[0m │\n",
              "├─────────────────────────────────┼────────────────────────┼───────────────┤\n",
              "│ dense_16 (\u001b[38;5;33mDense\u001b[0m)                │ (\u001b[38;5;45mNone\u001b[0m, \u001b[38;5;34m32\u001b[0m)             │         \u001b[38;5;34m2,080\u001b[0m │\n",
              "├─────────────────────────────────┼────────────────────────┼───────────────┤\n",
              "│ dense_17 (\u001b[38;5;33mDense\u001b[0m)                │ (\u001b[38;5;45mNone\u001b[0m, \u001b[38;5;34m1\u001b[0m)              │            \u001b[38;5;34m33\u001b[0m │\n",
              "└─────────────────────────────────┴────────────────────────┴───────────────┘\n"
            ],
            "text/html": [
              "<pre style=\"white-space:pre;overflow-x:auto;line-height:normal;font-family:Menlo,'DejaVu Sans Mono',consolas,'Courier New',monospace\">┏━━━━━━━━━━━━━━━━━━━━━━━━━━━━━━━━━┳━━━━━━━━━━━━━━━━━━━━━━━━┳━━━━━━━━━━━━━━━┓\n",
              "┃<span style=\"font-weight: bold\"> Layer (type)                    </span>┃<span style=\"font-weight: bold\"> Output Shape           </span>┃<span style=\"font-weight: bold\">       Param # </span>┃\n",
              "┡━━━━━━━━━━━━━━━━━━━━━━━━━━━━━━━━━╇━━━━━━━━━━━━━━━━━━━━━━━━╇━━━━━━━━━━━━━━━┩\n",
              "│ lstm_3 (<span style=\"color: #0087ff; text-decoration-color: #0087ff\">LSTM</span>)                   │ (<span style=\"color: #00d7ff; text-decoration-color: #00d7ff\">None</span>, <span style=\"color: #00af00; text-decoration-color: #00af00\">64</span>)             │        <span style=\"color: #00af00; text-decoration-color: #00af00\">19,200</span> │\n",
              "├─────────────────────────────────┼────────────────────────┼───────────────┤\n",
              "│ dense_16 (<span style=\"color: #0087ff; text-decoration-color: #0087ff\">Dense</span>)                │ (<span style=\"color: #00d7ff; text-decoration-color: #00d7ff\">None</span>, <span style=\"color: #00af00; text-decoration-color: #00af00\">32</span>)             │         <span style=\"color: #00af00; text-decoration-color: #00af00\">2,080</span> │\n",
              "├─────────────────────────────────┼────────────────────────┼───────────────┤\n",
              "│ dense_17 (<span style=\"color: #0087ff; text-decoration-color: #0087ff\">Dense</span>)                │ (<span style=\"color: #00d7ff; text-decoration-color: #00d7ff\">None</span>, <span style=\"color: #00af00; text-decoration-color: #00af00\">1</span>)              │            <span style=\"color: #00af00; text-decoration-color: #00af00\">33</span> │\n",
              "└─────────────────────────────────┴────────────────────────┴───────────────┘\n",
              "</pre>\n"
            ]
          },
          "metadata": {}
        },
        {
          "output_type": "display_data",
          "data": {
            "text/plain": [
              "\u001b[1m Total params: \u001b[0m\u001b[38;5;34m21,313\u001b[0m (83.25 KB)\n"
            ],
            "text/html": [
              "<pre style=\"white-space:pre;overflow-x:auto;line-height:normal;font-family:Menlo,'DejaVu Sans Mono',consolas,'Courier New',monospace\"><span style=\"font-weight: bold\"> Total params: </span><span style=\"color: #00af00; text-decoration-color: #00af00\">21,313</span> (83.25 KB)\n",
              "</pre>\n"
            ]
          },
          "metadata": {}
        },
        {
          "output_type": "display_data",
          "data": {
            "text/plain": [
              "\u001b[1m Trainable params: \u001b[0m\u001b[38;5;34m21,313\u001b[0m (83.25 KB)\n"
            ],
            "text/html": [
              "<pre style=\"white-space:pre;overflow-x:auto;line-height:normal;font-family:Menlo,'DejaVu Sans Mono',consolas,'Courier New',monospace\"><span style=\"font-weight: bold\"> Trainable params: </span><span style=\"color: #00af00; text-decoration-color: #00af00\">21,313</span> (83.25 KB)\n",
              "</pre>\n"
            ]
          },
          "metadata": {}
        },
        {
          "output_type": "display_data",
          "data": {
            "text/plain": [
              "\u001b[1m Non-trainable params: \u001b[0m\u001b[38;5;34m0\u001b[0m (0.00 B)\n"
            ],
            "text/html": [
              "<pre style=\"white-space:pre;overflow-x:auto;line-height:normal;font-family:Menlo,'DejaVu Sans Mono',consolas,'Courier New',monospace\"><span style=\"font-weight: bold\"> Non-trainable params: </span><span style=\"color: #00af00; text-decoration-color: #00af00\">0</span> (0.00 B)\n",
              "</pre>\n"
            ]
          },
          "metadata": {}
        }
      ]
    },
    {
      "cell_type": "code",
      "source": [
        "#Stacked LSTM with 1 hidden dense layer\n",
        "model = Sequential()\n",
        "model.add(LSTM(50, activation='relu', return_sequences=True, input_shape=(None, seq_size)))\n",
        "model.add(LSTM(50, activation='relu'))\n",
        "model.add(Dense(32))\n",
        "model.add(Dense(1))\n",
        "model.compile(optimizer='adam', loss='mean_squared_error')\n",
        "\n",
        "model.summary()"
      ],
      "metadata": {
        "id": "BhBzdJhryXnX",
        "colab": {
          "base_uri": "https://localhost:8080/",
          "height": 261
        },
        "outputId": "23dd9014-a7e2-48e6-9576-2c66592bc168"
      },
      "execution_count": 84,
      "outputs": [
        {
          "output_type": "display_data",
          "data": {
            "text/plain": [
              "\u001b[1mModel: \"sequential_9\"\u001b[0m\n"
            ],
            "text/html": [
              "<pre style=\"white-space:pre;overflow-x:auto;line-height:normal;font-family:Menlo,'DejaVu Sans Mono',consolas,'Courier New',monospace\"><span style=\"font-weight: bold\">Model: \"sequential_9\"</span>\n",
              "</pre>\n"
            ]
          },
          "metadata": {}
        },
        {
          "output_type": "display_data",
          "data": {
            "text/plain": [
              "┏━━━━━━━━━━━━━━━━━━━━━━━━━━━━━━━━━┳━━━━━━━━━━━━━━━━━━━━━━━━┳━━━━━━━━━━━━━━━┓\n",
              "┃\u001b[1m \u001b[0m\u001b[1mLayer (type)                   \u001b[0m\u001b[1m \u001b[0m┃\u001b[1m \u001b[0m\u001b[1mOutput Shape          \u001b[0m\u001b[1m \u001b[0m┃\u001b[1m \u001b[0m\u001b[1m      Param #\u001b[0m\u001b[1m \u001b[0m┃\n",
              "┡━━━━━━━━━━━━━━━━━━━━━━━━━━━━━━━━━╇━━━━━━━━━━━━━━━━━━━━━━━━╇━━━━━━━━━━━━━━━┩\n",
              "│ lstm_4 (\u001b[38;5;33mLSTM\u001b[0m)                   │ (\u001b[38;5;45mNone\u001b[0m, \u001b[38;5;45mNone\u001b[0m, \u001b[38;5;34m50\u001b[0m)       │        \u001b[38;5;34m12,200\u001b[0m │\n",
              "├─────────────────────────────────┼────────────────────────┼───────────────┤\n",
              "│ lstm_5 (\u001b[38;5;33mLSTM\u001b[0m)                   │ (\u001b[38;5;45mNone\u001b[0m, \u001b[38;5;34m50\u001b[0m)             │        \u001b[38;5;34m20,200\u001b[0m │\n",
              "├─────────────────────────────────┼────────────────────────┼───────────────┤\n",
              "│ dense_18 (\u001b[38;5;33mDense\u001b[0m)                │ (\u001b[38;5;45mNone\u001b[0m, \u001b[38;5;34m32\u001b[0m)             │         \u001b[38;5;34m1,632\u001b[0m │\n",
              "├─────────────────────────────────┼────────────────────────┼───────────────┤\n",
              "│ dense_19 (\u001b[38;5;33mDense\u001b[0m)                │ (\u001b[38;5;45mNone\u001b[0m, \u001b[38;5;34m1\u001b[0m)              │            \u001b[38;5;34m33\u001b[0m │\n",
              "└─────────────────────────────────┴────────────────────────┴───────────────┘\n"
            ],
            "text/html": [
              "<pre style=\"white-space:pre;overflow-x:auto;line-height:normal;font-family:Menlo,'DejaVu Sans Mono',consolas,'Courier New',monospace\">┏━━━━━━━━━━━━━━━━━━━━━━━━━━━━━━━━━┳━━━━━━━━━━━━━━━━━━━━━━━━┳━━━━━━━━━━━━━━━┓\n",
              "┃<span style=\"font-weight: bold\"> Layer (type)                    </span>┃<span style=\"font-weight: bold\"> Output Shape           </span>┃<span style=\"font-weight: bold\">       Param # </span>┃\n",
              "┡━━━━━━━━━━━━━━━━━━━━━━━━━━━━━━━━━╇━━━━━━━━━━━━━━━━━━━━━━━━╇━━━━━━━━━━━━━━━┩\n",
              "│ lstm_4 (<span style=\"color: #0087ff; text-decoration-color: #0087ff\">LSTM</span>)                   │ (<span style=\"color: #00d7ff; text-decoration-color: #00d7ff\">None</span>, <span style=\"color: #00d7ff; text-decoration-color: #00d7ff\">None</span>, <span style=\"color: #00af00; text-decoration-color: #00af00\">50</span>)       │        <span style=\"color: #00af00; text-decoration-color: #00af00\">12,200</span> │\n",
              "├─────────────────────────────────┼────────────────────────┼───────────────┤\n",
              "│ lstm_5 (<span style=\"color: #0087ff; text-decoration-color: #0087ff\">LSTM</span>)                   │ (<span style=\"color: #00d7ff; text-decoration-color: #00d7ff\">None</span>, <span style=\"color: #00af00; text-decoration-color: #00af00\">50</span>)             │        <span style=\"color: #00af00; text-decoration-color: #00af00\">20,200</span> │\n",
              "├─────────────────────────────────┼────────────────────────┼───────────────┤\n",
              "│ dense_18 (<span style=\"color: #0087ff; text-decoration-color: #0087ff\">Dense</span>)                │ (<span style=\"color: #00d7ff; text-decoration-color: #00d7ff\">None</span>, <span style=\"color: #00af00; text-decoration-color: #00af00\">32</span>)             │         <span style=\"color: #00af00; text-decoration-color: #00af00\">1,632</span> │\n",
              "├─────────────────────────────────┼────────────────────────┼───────────────┤\n",
              "│ dense_19 (<span style=\"color: #0087ff; text-decoration-color: #0087ff\">Dense</span>)                │ (<span style=\"color: #00d7ff; text-decoration-color: #00d7ff\">None</span>, <span style=\"color: #00af00; text-decoration-color: #00af00\">1</span>)              │            <span style=\"color: #00af00; text-decoration-color: #00af00\">33</span> │\n",
              "└─────────────────────────────────┴────────────────────────┴───────────────┘\n",
              "</pre>\n"
            ]
          },
          "metadata": {}
        },
        {
          "output_type": "display_data",
          "data": {
            "text/plain": [
              "\u001b[1m Total params: \u001b[0m\u001b[38;5;34m34,065\u001b[0m (133.07 KB)\n"
            ],
            "text/html": [
              "<pre style=\"white-space:pre;overflow-x:auto;line-height:normal;font-family:Menlo,'DejaVu Sans Mono',consolas,'Courier New',monospace\"><span style=\"font-weight: bold\"> Total params: </span><span style=\"color: #00af00; text-decoration-color: #00af00\">34,065</span> (133.07 KB)\n",
              "</pre>\n"
            ]
          },
          "metadata": {}
        },
        {
          "output_type": "display_data",
          "data": {
            "text/plain": [
              "\u001b[1m Trainable params: \u001b[0m\u001b[38;5;34m34,065\u001b[0m (133.07 KB)\n"
            ],
            "text/html": [
              "<pre style=\"white-space:pre;overflow-x:auto;line-height:normal;font-family:Menlo,'DejaVu Sans Mono',consolas,'Courier New',monospace\"><span style=\"font-weight: bold\"> Trainable params: </span><span style=\"color: #00af00; text-decoration-color: #00af00\">34,065</span> (133.07 KB)\n",
              "</pre>\n"
            ]
          },
          "metadata": {}
        },
        {
          "output_type": "display_data",
          "data": {
            "text/plain": [
              "\u001b[1m Non-trainable params: \u001b[0m\u001b[38;5;34m0\u001b[0m (0.00 B)\n"
            ],
            "text/html": [
              "<pre style=\"white-space:pre;overflow-x:auto;line-height:normal;font-family:Menlo,'DejaVu Sans Mono',consolas,'Courier New',monospace\"><span style=\"font-weight: bold\"> Non-trainable params: </span><span style=\"color: #00af00; text-decoration-color: #00af00\">0</span> (0.00 B)\n",
              "</pre>\n"
            ]
          },
          "metadata": {}
        }
      ]
    },
    {
      "cell_type": "code",
      "source": [
        "#Bidirectional LSTM\n",
        "# reshape input to be [samples, time steps, features]\n",
        "#trainX = np.reshape(trainX, (trainX.shape[0], 1, trainX.shape[1]))\n",
        "#testX = np.reshape(testX, (testX.shape[0], 1, testX.shape[1]))\n",
        "#\n",
        "##For some sequence forecasting problems we may need LSTM to learn\n",
        "## sequence in both forward and backward directions\n",
        "#from keras.layers import Bidirectional\n",
        "#model = Sequential()\n",
        "#model.add(Bidirectional(LSTM(50, activation='relu'), input_shape=(None, seq_size)))\n",
        "#model.add(Dense(1))\n",
        "#model.compile(optimizer='adam', loss='mean_squared_error')\n",
        "#model.summary()\n",
        "#print('Train...')"
      ],
      "metadata": {
        "id": "qd2WrIUP8oay"
      },
      "execution_count": 85,
      "outputs": []
    },
    {
      "cell_type": "code",
      "source": [
        "#ConvLSTM\n",
        "#The layer expects input as a sequence of two-dimensional images,\n",
        "#therefore the shape of input data must be: [samples, timesteps, rows, columns, features]\n",
        "\n",
        "trainX = trainX.reshape((trainX.shape[0], 1, 1, 1, seq_size))\n",
        "testX = testX.reshape((testX.shape[0], 1, 1, 1, seq_size))\n",
        "\n",
        "model = Sequential()\n",
        "model.add(ConvLSTM2D(filters=64, kernel_size=(1,1), activation='relu', input_shape=(1, 1, 1, seq_size)))\n",
        "model.add(Flatten())\n",
        "model.add(Dense(32))\n",
        "model.add(Dense(1))\n",
        "model.compile(optimizer='adam', loss='mean_squared_error')\n",
        "model.summary()\n",
        "print('Train...')\n"
      ],
      "metadata": {
        "id": "kRUEtmix8v6w",
        "colab": {
          "base_uri": "https://localhost:8080/",
          "height": 278
        },
        "outputId": "1ff134be-a1fc-42e3-c3bb-486d230d9388"
      },
      "execution_count": 86,
      "outputs": [
        {
          "output_type": "display_data",
          "data": {
            "text/plain": [
              "\u001b[1mModel: \"sequential_10\"\u001b[0m\n"
            ],
            "text/html": [
              "<pre style=\"white-space:pre;overflow-x:auto;line-height:normal;font-family:Menlo,'DejaVu Sans Mono',consolas,'Courier New',monospace\"><span style=\"font-weight: bold\">Model: \"sequential_10\"</span>\n",
              "</pre>\n"
            ]
          },
          "metadata": {}
        },
        {
          "output_type": "display_data",
          "data": {
            "text/plain": [
              "┏━━━━━━━━━━━━━━━━━━━━━━━━━━━━━━━━━┳━━━━━━━━━━━━━━━━━━━━━━━━┳━━━━━━━━━━━━━━━┓\n",
              "┃\u001b[1m \u001b[0m\u001b[1mLayer (type)                   \u001b[0m\u001b[1m \u001b[0m┃\u001b[1m \u001b[0m\u001b[1mOutput Shape          \u001b[0m\u001b[1m \u001b[0m┃\u001b[1m \u001b[0m\u001b[1m      Param #\u001b[0m\u001b[1m \u001b[0m┃\n",
              "┡━━━━━━━━━━━━━━━━━━━━━━━━━━━━━━━━━╇━━━━━━━━━━━━━━━━━━━━━━━━╇━━━━━━━━━━━━━━━┩\n",
              "│ conv_lstm2d_1 (\u001b[38;5;33mConvLSTM2D\u001b[0m)      │ (\u001b[38;5;45mNone\u001b[0m, \u001b[38;5;34m1\u001b[0m, \u001b[38;5;34m1\u001b[0m, \u001b[38;5;34m64\u001b[0m)       │        \u001b[38;5;34m19,200\u001b[0m │\n",
              "├─────────────────────────────────┼────────────────────────┼───────────────┤\n",
              "│ flatten_1 (\u001b[38;5;33mFlatten\u001b[0m)             │ (\u001b[38;5;45mNone\u001b[0m, \u001b[38;5;34m64\u001b[0m)             │             \u001b[38;5;34m0\u001b[0m │\n",
              "├─────────────────────────────────┼────────────────────────┼───────────────┤\n",
              "│ dense_20 (\u001b[38;5;33mDense\u001b[0m)                │ (\u001b[38;5;45mNone\u001b[0m, \u001b[38;5;34m32\u001b[0m)             │         \u001b[38;5;34m2,080\u001b[0m │\n",
              "├─────────────────────────────────┼────────────────────────┼───────────────┤\n",
              "│ dense_21 (\u001b[38;5;33mDense\u001b[0m)                │ (\u001b[38;5;45mNone\u001b[0m, \u001b[38;5;34m1\u001b[0m)              │            \u001b[38;5;34m33\u001b[0m │\n",
              "└─────────────────────────────────┴────────────────────────┴───────────────┘\n"
            ],
            "text/html": [
              "<pre style=\"white-space:pre;overflow-x:auto;line-height:normal;font-family:Menlo,'DejaVu Sans Mono',consolas,'Courier New',monospace\">┏━━━━━━━━━━━━━━━━━━━━━━━━━━━━━━━━━┳━━━━━━━━━━━━━━━━━━━━━━━━┳━━━━━━━━━━━━━━━┓\n",
              "┃<span style=\"font-weight: bold\"> Layer (type)                    </span>┃<span style=\"font-weight: bold\"> Output Shape           </span>┃<span style=\"font-weight: bold\">       Param # </span>┃\n",
              "┡━━━━━━━━━━━━━━━━━━━━━━━━━━━━━━━━━╇━━━━━━━━━━━━━━━━━━━━━━━━╇━━━━━━━━━━━━━━━┩\n",
              "│ conv_lstm2d_1 (<span style=\"color: #0087ff; text-decoration-color: #0087ff\">ConvLSTM2D</span>)      │ (<span style=\"color: #00d7ff; text-decoration-color: #00d7ff\">None</span>, <span style=\"color: #00af00; text-decoration-color: #00af00\">1</span>, <span style=\"color: #00af00; text-decoration-color: #00af00\">1</span>, <span style=\"color: #00af00; text-decoration-color: #00af00\">64</span>)       │        <span style=\"color: #00af00; text-decoration-color: #00af00\">19,200</span> │\n",
              "├─────────────────────────────────┼────────────────────────┼───────────────┤\n",
              "│ flatten_1 (<span style=\"color: #0087ff; text-decoration-color: #0087ff\">Flatten</span>)             │ (<span style=\"color: #00d7ff; text-decoration-color: #00d7ff\">None</span>, <span style=\"color: #00af00; text-decoration-color: #00af00\">64</span>)             │             <span style=\"color: #00af00; text-decoration-color: #00af00\">0</span> │\n",
              "├─────────────────────────────────┼────────────────────────┼───────────────┤\n",
              "│ dense_20 (<span style=\"color: #0087ff; text-decoration-color: #0087ff\">Dense</span>)                │ (<span style=\"color: #00d7ff; text-decoration-color: #00d7ff\">None</span>, <span style=\"color: #00af00; text-decoration-color: #00af00\">32</span>)             │         <span style=\"color: #00af00; text-decoration-color: #00af00\">2,080</span> │\n",
              "├─────────────────────────────────┼────────────────────────┼───────────────┤\n",
              "│ dense_21 (<span style=\"color: #0087ff; text-decoration-color: #0087ff\">Dense</span>)                │ (<span style=\"color: #00d7ff; text-decoration-color: #00d7ff\">None</span>, <span style=\"color: #00af00; text-decoration-color: #00af00\">1</span>)              │            <span style=\"color: #00af00; text-decoration-color: #00af00\">33</span> │\n",
              "└─────────────────────────────────┴────────────────────────┴───────────────┘\n",
              "</pre>\n"
            ]
          },
          "metadata": {}
        },
        {
          "output_type": "display_data",
          "data": {
            "text/plain": [
              "\u001b[1m Total params: \u001b[0m\u001b[38;5;34m21,313\u001b[0m (83.25 KB)\n"
            ],
            "text/html": [
              "<pre style=\"white-space:pre;overflow-x:auto;line-height:normal;font-family:Menlo,'DejaVu Sans Mono',consolas,'Courier New',monospace\"><span style=\"font-weight: bold\"> Total params: </span><span style=\"color: #00af00; text-decoration-color: #00af00\">21,313</span> (83.25 KB)\n",
              "</pre>\n"
            ]
          },
          "metadata": {}
        },
        {
          "output_type": "display_data",
          "data": {
            "text/plain": [
              "\u001b[1m Trainable params: \u001b[0m\u001b[38;5;34m21,313\u001b[0m (83.25 KB)\n"
            ],
            "text/html": [
              "<pre style=\"white-space:pre;overflow-x:auto;line-height:normal;font-family:Menlo,'DejaVu Sans Mono',consolas,'Courier New',monospace\"><span style=\"font-weight: bold\"> Trainable params: </span><span style=\"color: #00af00; text-decoration-color: #00af00\">21,313</span> (83.25 KB)\n",
              "</pre>\n"
            ]
          },
          "metadata": {}
        },
        {
          "output_type": "display_data",
          "data": {
            "text/plain": [
              "\u001b[1m Non-trainable params: \u001b[0m\u001b[38;5;34m0\u001b[0m (0.00 B)\n"
            ],
            "text/html": [
              "<pre style=\"white-space:pre;overflow-x:auto;line-height:normal;font-family:Menlo,'DejaVu Sans Mono',consolas,'Courier New',monospace\"><span style=\"font-weight: bold\"> Non-trainable params: </span><span style=\"color: #00af00; text-decoration-color: #00af00\">0</span> (0.00 B)\n",
              "</pre>\n"
            ]
          },
          "metadata": {}
        },
        {
          "output_type": "stream",
          "name": "stdout",
          "text": [
            "Train...\n"
          ]
        }
      ]
    },
    {
      "cell_type": "code",
      "source": [
        "#Train the model\n",
        "print('Train...')\n",
        "model.fit(trainX, trainY, validation_data=(testX, testY),\n",
        "          verbose=2, epochs=100)"
      ],
      "metadata": {
        "id": "hHeeG5h_0zZV",
        "colab": {
          "base_uri": "https://localhost:8080/",
          "height": 0
        },
        "outputId": "26505b50-16c6-4207-ec93-9b17d227ac73"
      },
      "execution_count": 87,
      "outputs": [
        {
          "output_type": "stream",
          "name": "stdout",
          "text": [
            "Train...\n",
            "Epoch 1/100\n",
            "3/3 - 3s - 1s/step - loss: 0.0564 - val_loss: 0.2678\n",
            "Epoch 2/100\n",
            "3/3 - 0s - 32ms/step - loss: 0.0388 - val_loss: 0.1939\n",
            "Epoch 3/100\n",
            "3/3 - 0s - 43ms/step - loss: 0.0243 - val_loss: 0.1309\n",
            "Epoch 4/100\n",
            "3/3 - 0s - 32ms/step - loss: 0.0144 - val_loss: 0.0805\n",
            "Epoch 5/100\n",
            "3/3 - 0s - 33ms/step - loss: 0.0093 - val_loss: 0.0465\n",
            "Epoch 6/100\n",
            "3/3 - 0s - 31ms/step - loss: 0.0088 - val_loss: 0.0296\n",
            "Epoch 7/100\n",
            "3/3 - 0s - 32ms/step - loss: 0.0097 - val_loss: 0.0251\n",
            "Epoch 8/100\n",
            "3/3 - 0s - 32ms/step - loss: 0.0104 - val_loss: 0.0246\n",
            "Epoch 9/100\n",
            "3/3 - 0s - 31ms/step - loss: 0.0096 - val_loss: 0.0263\n",
            "Epoch 10/100\n",
            "3/3 - 0s - 33ms/step - loss: 0.0082 - val_loss: 0.0299\n",
            "Epoch 11/100\n",
            "3/3 - 0s - 47ms/step - loss: 0.0072 - val_loss: 0.0351\n",
            "Epoch 12/100\n",
            "3/3 - 0s - 31ms/step - loss: 0.0066 - val_loss: 0.0385\n",
            "Epoch 13/100\n",
            "3/3 - 0s - 45ms/step - loss: 0.0065 - val_loss: 0.0389\n",
            "Epoch 14/100\n",
            "3/3 - 0s - 47ms/step - loss: 0.0064 - val_loss: 0.0358\n",
            "Epoch 15/100\n",
            "3/3 - 0s - 48ms/step - loss: 0.0060 - val_loss: 0.0309\n",
            "Epoch 16/100\n",
            "3/3 - 0s - 48ms/step - loss: 0.0055 - val_loss: 0.0256\n",
            "Epoch 17/100\n",
            "3/3 - 0s - 44ms/step - loss: 0.0052 - val_loss: 0.0217\n",
            "Epoch 18/100\n",
            "3/3 - 0s - 31ms/step - loss: 0.0049 - val_loss: 0.0198\n",
            "Epoch 19/100\n",
            "3/3 - 0s - 32ms/step - loss: 0.0046 - val_loss: 0.0188\n",
            "Epoch 20/100\n",
            "3/3 - 0s - 45ms/step - loss: 0.0043 - val_loss: 0.0180\n",
            "Epoch 21/100\n",
            "3/3 - 0s - 37ms/step - loss: 0.0041 - val_loss: 0.0174\n",
            "Epoch 22/100\n",
            "3/3 - 0s - 32ms/step - loss: 0.0039 - val_loss: 0.0168\n",
            "Epoch 23/100\n",
            "3/3 - 0s - 46ms/step - loss: 0.0037 - val_loss: 0.0164\n",
            "Epoch 24/100\n",
            "3/3 - 0s - 32ms/step - loss: 0.0036 - val_loss: 0.0167\n",
            "Epoch 25/100\n",
            "3/3 - 0s - 47ms/step - loss: 0.0034 - val_loss: 0.0172\n",
            "Epoch 26/100\n",
            "3/3 - 0s - 48ms/step - loss: 0.0033 - val_loss: 0.0179\n",
            "Epoch 27/100\n",
            "3/3 - 0s - 31ms/step - loss: 0.0032 - val_loss: 0.0180\n",
            "Epoch 28/100\n",
            "3/3 - 0s - 47ms/step - loss: 0.0031 - val_loss: 0.0184\n",
            "Epoch 29/100\n",
            "3/3 - 0s - 44ms/step - loss: 0.0030 - val_loss: 0.0173\n",
            "Epoch 30/100\n",
            "3/3 - 0s - 32ms/step - loss: 0.0029 - val_loss: 0.0171\n",
            "Epoch 31/100\n",
            "3/3 - 0s - 47ms/step - loss: 0.0028 - val_loss: 0.0170\n",
            "Epoch 32/100\n",
            "3/3 - 0s - 30ms/step - loss: 0.0028 - val_loss: 0.0171\n",
            "Epoch 33/100\n",
            "3/3 - 0s - 46ms/step - loss: 0.0027 - val_loss: 0.0173\n",
            "Epoch 34/100\n",
            "3/3 - 0s - 31ms/step - loss: 0.0027 - val_loss: 0.0158\n",
            "Epoch 35/100\n",
            "3/3 - 0s - 30ms/step - loss: 0.0025 - val_loss: 0.0167\n",
            "Epoch 36/100\n",
            "3/3 - 0s - 47ms/step - loss: 0.0025 - val_loss: 0.0184\n",
            "Epoch 37/100\n",
            "3/3 - 0s - 32ms/step - loss: 0.0025 - val_loss: 0.0183\n",
            "Epoch 38/100\n",
            "3/3 - 0s - 48ms/step - loss: 0.0024 - val_loss: 0.0164\n",
            "Epoch 39/100\n",
            "3/3 - 0s - 31ms/step - loss: 0.0023 - val_loss: 0.0133\n",
            "Epoch 40/100\n",
            "3/3 - 0s - 47ms/step - loss: 0.0023 - val_loss: 0.0123\n",
            "Epoch 41/100\n",
            "3/3 - 0s - 50ms/step - loss: 0.0022 - val_loss: 0.0135\n",
            "Epoch 42/100\n",
            "3/3 - 0s - 48ms/step - loss: 0.0021 - val_loss: 0.0148\n",
            "Epoch 43/100\n",
            "3/3 - 0s - 47ms/step - loss: 0.0021 - val_loss: 0.0134\n",
            "Epoch 44/100\n",
            "3/3 - 0s - 55ms/step - loss: 0.0020 - val_loss: 0.0133\n",
            "Epoch 45/100\n",
            "3/3 - 0s - 53ms/step - loss: 0.0020 - val_loss: 0.0121\n",
            "Epoch 46/100\n",
            "3/3 - 0s - 45ms/step - loss: 0.0019 - val_loss: 0.0119\n",
            "Epoch 47/100\n",
            "3/3 - 0s - 55ms/step - loss: 0.0019 - val_loss: 0.0117\n",
            "Epoch 48/100\n",
            "3/3 - 0s - 43ms/step - loss: 0.0018 - val_loss: 0.0123\n",
            "Epoch 49/100\n",
            "3/3 - 0s - 53ms/step - loss: 0.0018 - val_loss: 0.0127\n",
            "Epoch 50/100\n",
            "3/3 - 0s - 104ms/step - loss: 0.0018 - val_loss: 0.0110\n",
            "Epoch 51/100\n",
            "3/3 - 0s - 63ms/step - loss: 0.0017 - val_loss: 0.0097\n",
            "Epoch 52/100\n",
            "3/3 - 0s - 95ms/step - loss: 0.0017 - val_loss: 0.0106\n",
            "Epoch 53/100\n",
            "3/3 - 0s - 35ms/step - loss: 0.0017 - val_loss: 0.0104\n",
            "Epoch 54/100\n",
            "3/3 - 0s - 46ms/step - loss: 0.0016 - val_loss: 0.0096\n",
            "Epoch 55/100\n",
            "3/3 - 0s - 44ms/step - loss: 0.0016 - val_loss: 0.0090\n",
            "Epoch 56/100\n",
            "3/3 - 0s - 33ms/step - loss: 0.0016 - val_loss: 0.0092\n",
            "Epoch 57/100\n",
            "3/3 - 0s - 30ms/step - loss: 0.0016 - val_loss: 0.0096\n",
            "Epoch 58/100\n",
            "3/3 - 0s - 50ms/step - loss: 0.0015 - val_loss: 0.0099\n",
            "Epoch 59/100\n",
            "3/3 - 0s - 44ms/step - loss: 0.0016 - val_loss: 0.0098\n",
            "Epoch 60/100\n",
            "3/3 - 0s - 47ms/step - loss: 0.0015 - val_loss: 0.0075\n",
            "Epoch 61/100\n",
            "3/3 - 0s - 32ms/step - loss: 0.0015 - val_loss: 0.0074\n",
            "Epoch 62/100\n",
            "3/3 - 0s - 47ms/step - loss: 0.0015 - val_loss: 0.0103\n",
            "Epoch 63/100\n",
            "3/3 - 0s - 48ms/step - loss: 0.0016 - val_loss: 0.0113\n",
            "Epoch 64/100\n",
            "3/3 - 0s - 30ms/step - loss: 0.0014 - val_loss: 0.0075\n",
            "Epoch 65/100\n",
            "3/3 - 0s - 29ms/step - loss: 0.0015 - val_loss: 0.0066\n",
            "Epoch 66/100\n",
            "3/3 - 0s - 51ms/step - loss: 0.0014 - val_loss: 0.0079\n",
            "Epoch 67/100\n",
            "3/3 - 0s - 44ms/step - loss: 0.0015 - val_loss: 0.0114\n",
            "Epoch 68/100\n",
            "3/3 - 0s - 47ms/step - loss: 0.0014 - val_loss: 0.0089\n",
            "Epoch 69/100\n",
            "3/3 - 0s - 32ms/step - loss: 0.0013 - val_loss: 0.0065\n",
            "Epoch 70/100\n",
            "3/3 - 0s - 46ms/step - loss: 0.0014 - val_loss: 0.0063\n",
            "Epoch 71/100\n",
            "3/3 - 0s - 43ms/step - loss: 0.0013 - val_loss: 0.0079\n",
            "Epoch 72/100\n",
            "3/3 - 0s - 30ms/step - loss: 0.0013 - val_loss: 0.0091\n",
            "Epoch 73/100\n",
            "3/3 - 0s - 47ms/step - loss: 0.0013 - val_loss: 0.0074\n",
            "Epoch 74/100\n",
            "3/3 - 0s - 52ms/step - loss: 0.0013 - val_loss: 0.0064\n",
            "Epoch 75/100\n",
            "3/3 - 0s - 41ms/step - loss: 0.0013 - val_loss: 0.0073\n",
            "Epoch 76/100\n",
            "3/3 - 0s - 30ms/step - loss: 0.0012 - val_loss: 0.0072\n",
            "Epoch 77/100\n",
            "3/3 - 0s - 48ms/step - loss: 0.0012 - val_loss: 0.0078\n",
            "Epoch 78/100\n",
            "3/3 - 0s - 47ms/step - loss: 0.0012 - val_loss: 0.0074\n",
            "Epoch 79/100\n",
            "3/3 - 0s - 45ms/step - loss: 0.0012 - val_loss: 0.0066\n",
            "Epoch 80/100\n",
            "3/3 - 0s - 33ms/step - loss: 0.0012 - val_loss: 0.0066\n",
            "Epoch 81/100\n",
            "3/3 - 0s - 31ms/step - loss: 0.0012 - val_loss: 0.0071\n",
            "Epoch 82/100\n",
            "3/3 - 0s - 52ms/step - loss: 0.0012 - val_loss: 0.0076\n",
            "Epoch 83/100\n",
            "3/3 - 0s - 32ms/step - loss: 0.0012 - val_loss: 0.0064\n",
            "Epoch 84/100\n",
            "3/3 - 0s - 31ms/step - loss: 0.0012 - val_loss: 0.0064\n",
            "Epoch 85/100\n",
            "3/3 - 0s - 31ms/step - loss: 0.0011 - val_loss: 0.0071\n",
            "Epoch 86/100\n",
            "3/3 - 0s - 45ms/step - loss: 0.0011 - val_loss: 0.0065\n",
            "Epoch 87/100\n",
            "3/3 - 0s - 49ms/step - loss: 0.0011 - val_loss: 0.0064\n",
            "Epoch 88/100\n",
            "3/3 - 0s - 45ms/step - loss: 0.0011 - val_loss: 0.0063\n",
            "Epoch 89/100\n",
            "3/3 - 0s - 49ms/step - loss: 0.0011 - val_loss: 0.0055\n",
            "Epoch 90/100\n",
            "3/3 - 0s - 30ms/step - loss: 0.0011 - val_loss: 0.0061\n",
            "Epoch 91/100\n",
            "3/3 - 0s - 37ms/step - loss: 0.0011 - val_loss: 0.0075\n",
            "Epoch 92/100\n",
            "3/3 - 0s - 43ms/step - loss: 0.0011 - val_loss: 0.0063\n",
            "Epoch 93/100\n",
            "3/3 - 0s - 48ms/step - loss: 0.0010 - val_loss: 0.0056\n",
            "Epoch 94/100\n",
            "3/3 - 0s - 47ms/step - loss: 0.0011 - val_loss: 0.0057\n",
            "Epoch 95/100\n",
            "3/3 - 0s - 31ms/step - loss: 0.0011 - val_loss: 0.0067\n",
            "Epoch 96/100\n",
            "3/3 - 0s - 31ms/step - loss: 0.0010 - val_loss: 0.0058\n",
            "Epoch 97/100\n",
            "3/3 - 0s - 48ms/step - loss: 0.0010 - val_loss: 0.0054\n",
            "Epoch 98/100\n",
            "3/3 - 0s - 44ms/step - loss: 0.0010 - val_loss: 0.0056\n",
            "Epoch 99/100\n",
            "3/3 - 0s - 36ms/step - loss: 9.9157e-04 - val_loss: 0.0060\n",
            "Epoch 100/100\n",
            "3/3 - 0s - 43ms/step - loss: 9.8040e-04 - val_loss: 0.0064\n"
          ]
        },
        {
          "output_type": "execute_result",
          "data": {
            "text/plain": [
              "<keras.src.callbacks.history.History at 0x7be93f2de4d0>"
            ]
          },
          "metadata": {},
          "execution_count": 87
        }
      ]
    },
    {
      "cell_type": "code",
      "source": [
        "# make predictions\n",
        "\n",
        "trainPredict = model.predict(trainX)\n",
        "testPredict = model.predict(testX)"
      ],
      "metadata": {
        "id": "xLT02UJT1Njj",
        "colab": {
          "base_uri": "https://localhost:8080/",
          "height": 0
        },
        "outputId": "7b851eaf-91e4-4bda-fc9e-510ae84c4906"
      },
      "execution_count": 88,
      "outputs": [
        {
          "output_type": "stream",
          "name": "stdout",
          "text": [
            "\u001b[1m3/3\u001b[0m \u001b[32m━━━━━━━━━━━━━━━━━━━━\u001b[0m\u001b[37m\u001b[0m \u001b[1m0s\u001b[0m 119ms/step\n",
            "\u001b[1m2/2\u001b[0m \u001b[32m━━━━━━━━━━━━━━━━━━━━\u001b[0m\u001b[37m\u001b[0m \u001b[1m0s\u001b[0m 24ms/step\n"
          ]
        }
      ]
    },
    {
      "cell_type": "code",
      "source": [
        "# invert predictions back to prescaled values\n",
        "#This is to compare with original input values\n",
        "#SInce we used minmaxscaler we can now use scaler.inverse_transform\n",
        "#to invert the transformation.\n",
        "trainPredict = scaler.inverse_transform(trainPredict)\n",
        "trainY = scaler.inverse_transform([trainY])\n",
        "testPredict = scaler.inverse_transform(testPredict)\n",
        "testY = scaler.inverse_transform([testY])"
      ],
      "metadata": {
        "id": "SNXv_T5L1aRo"
      },
      "execution_count": 89,
      "outputs": []
    },
    {
      "cell_type": "code",
      "source": [
        "# calculate root mean squared error\n",
        "trainScore = math.sqrt(mean_squared_error(trainY[0], trainPredict[:,0]))\n",
        "print('Train Score: %.2f RMSE' % (trainScore))\n"
      ],
      "metadata": {
        "id": "MbqkBP5k1dkX",
        "colab": {
          "base_uri": "https://localhost:8080/",
          "height": 0
        },
        "outputId": "c6e98127-adb3-4bc3-886b-9926fb0753ae"
      },
      "execution_count": 90,
      "outputs": [
        {
          "output_type": "stream",
          "name": "stdout",
          "text": [
            "Train Score: 16.22 RMSE\n"
          ]
        }
      ]
    },
    {
      "cell_type": "code",
      "source": [
        "testScore = math.sqrt(mean_squared_error(testY[0], testPredict[:,0]))\n",
        "print('Test Score: %.2f RMSE' % (testScore))"
      ],
      "metadata": {
        "id": "GYMCsrgG1gl8",
        "colab": {
          "base_uri": "https://localhost:8080/",
          "height": 0
        },
        "outputId": "ed483d6b-3c7f-418c-8f11-cc9433d29b5a"
      },
      "execution_count": 91,
      "outputs": [
        {
          "output_type": "stream",
          "name": "stdout",
          "text": [
            "Test Score: 41.39 RMSE\n"
          ]
        }
      ]
    },
    {
      "cell_type": "code",
      "source": [
        "# shift train predictions for plotting\n",
        "#we must shift the predictions so that they align on the x-axis with the original dataset.\n",
        "trainPredictPlot = np.empty_like(dataset)\n",
        "trainPredictPlot[:, :] = np.nan\n",
        "trainPredictPlot[seq_size:len(trainPredict)+seq_size, :] = trainPredict\n",
        "\n",
        "# shift test predictions for plotting\n",
        "testPredictPlot = np.empty_like(dataset)\n",
        "testPredictPlot[:, :] = np.nan\n",
        "testPredictPlot[len(trainPredict)+(seq_size*2)+1:len(dataset)-1, :] = testPredict\n",
        "\n",
        "# plot baseline and predictions\n",
        "plt.plot(scaler.inverse_transform(dataset))\n",
        "plt.plot(trainPredictPlot)\n",
        "plt.plot(testPredictPlot)\n",
        "plt.show()"
      ],
      "metadata": {
        "id": "U2hF8Sto1jxA",
        "colab": {
          "base_uri": "https://localhost:8080/",
          "height": 430
        },
        "outputId": "ea8b76ff-fa77-4f9a-8235-ef72e96eefa8"
      },
      "execution_count": 92,
      "outputs": [
        {
          "output_type": "display_data",
          "data": {
            "text/plain": [
              "<Figure size 640x480 with 1 Axes>"
            ],
            "image/png": "[encoded data removed]"
          },
          "metadata": {}
        }
      ]
    }
  ]
}